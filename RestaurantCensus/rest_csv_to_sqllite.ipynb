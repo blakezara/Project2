{
 "cells": [
  {
   "cell_type": "code",
   "execution_count": null,
   "metadata": {},
   "outputs": [],
   "source": [
    "!rm customers.sqlite food_new.csv"
   ]
  },
  {
   "cell_type": "code",
   "execution_count": 34,
   "metadata": {
    "collapsed": true
   },
   "outputs": [],
   "source": [
    "# Dependencies\n",
    "import pandas as pd\n",
    "import numpy as np\n",
    "import os"
   ]
  },
  {
   "cell_type": "markdown",
   "metadata": {},
   "source": [
    "# Data Cleaning"
   ]
  },
  {
   "cell_type": "code",
   "execution_count": 35,
   "metadata": {
    "collapsed": true
   },
   "outputs": [],
   "source": [
    "# Path of the CSV file\n",
    "csvfile = \"restaurant_updated.csv\""
   ]
  },
  {
   "cell_type": "code",
   "execution_count": 36,
   "metadata": {
    "collapsed": true
   },
   "outputs": [],
   "source": [
    "# Read CSV file into a pandas DataFrame\n",
    "df = pd.read_csv(csvfile, dtype=object)"
   ]
  },
  {
   "cell_type": "code",
   "execution_count": 37,
   "metadata": {},
   "outputs": [
    {
     "data": {
      "text/html": [
       "<div>\n",
       "<style>\n",
       "    .dataframe thead tr:only-child th {\n",
       "        text-align: right;\n",
       "    }\n",
       "\n",
       "    .dataframe thead th {\n",
       "        text-align: left;\n",
       "    }\n",
       "\n",
       "    .dataframe tbody tr th {\n",
       "        vertical-align: top;\n",
       "    }\n",
       "</style>\n",
       "<table border=\"1\" class=\"dataframe\">\n",
       "  <thead>\n",
       "    <tr style=\"text-align: right;\">\n",
       "      <th></th>\n",
       "      <th>id</th>\n",
       "      <th>the_geom</th>\n",
       "      <th>city</th>\n",
       "      <th>latitude</th>\n",
       "      <th>longitude</th>\n",
       "      <th>invalid_the_geom</th>\n",
       "      <th>storenumber</th>\n",
       "      <th>storetype</th>\n",
       "      <th>address</th>\n",
       "      <th>cartodb_id</th>\n",
       "      <th>...</th>\n",
       "      <th>Population_2014</th>\n",
       "      <th>FF_per_capita_2009</th>\n",
       "      <th>FF_per_capita_2014</th>\n",
       "      <th>p_change_FF_Per_Capita</th>\n",
       "      <th>Grocery_per_capita_2009</th>\n",
       "      <th>Grocery_per_capita_2014</th>\n",
       "      <th>p_change_in_grocery_per_capita</th>\n",
       "      <th>p_change_in_Access</th>\n",
       "      <th>p_Change_in_Obesity</th>\n",
       "      <th>p_change_in_income</th>\n",
       "    </tr>\n",
       "  </thead>\n",
       "  <tbody>\n",
       "    <tr>\n",
       "      <th>0</th>\n",
       "      <td>1</td>\n",
       "      <td>0101000020E6100000541C075E2DEB60C09F909DB7B187...</td>\n",
       "      <td>SITKA</td>\n",
       "      <td>57.060111</td>\n",
       "      <td>-135.349288</td>\n",
       "      <td>Point</td>\n",
       "      <td>7972</td>\n",
       "      <td>FREESTANDING</td>\n",
       "      <td>913 HALIBUT POINT RD</td>\n",
       "      <td>14168</td>\n",
       "      <td>...</td>\n",
       "      <td>8883</td>\n",
       "      <td>0.0004504</td>\n",
       "      <td>0.00045</td>\n",
       "      <td>-0.02</td>\n",
       "      <td>0.0004504</td>\n",
       "      <td>0.0004503</td>\n",
       "      <td>-0.02</td>\n",
       "      <td>0</td>\n",
       "      <td>-3.37</td>\n",
       "      <td>18.06</td>\n",
       "    </tr>\n",
       "    <tr>\n",
       "      <th>1</th>\n",
       "      <td>2</td>\n",
       "      <td>0101000020E610000056F31C916FD260C0C8EC2C7AA72E...</td>\n",
       "      <td>JUNEAU</td>\n",
       "      <td>58.364486</td>\n",
       "      <td>-134.576119</td>\n",
       "      <td>Point</td>\n",
       "      <td>6123</td>\n",
       "      <td>FREESTANDING</td>\n",
       "      <td>2285 TROUT ST</td>\n",
       "      <td>14169</td>\n",
       "      <td>...</td>\n",
       "      <td>32511</td>\n",
       "      <td>0.000703437</td>\n",
       "      <td>0.00095</td>\n",
       "      <td>35.55</td>\n",
       "      <td>0.000223821</td>\n",
       "      <td>0.00018455</td>\n",
       "      <td>-17.54</td>\n",
       "      <td>0</td>\n",
       "      <td>9.16</td>\n",
       "      <td>18.68</td>\n",
       "    </tr>\n",
       "    <tr>\n",
       "      <th>2</th>\n",
       "      <td>3</td>\n",
       "      <td>0101000020E61000009E42AED4B3425DC0F9156BB8C835...</td>\n",
       "      <td>CLARKSTON</td>\n",
       "      <td>46.420188</td>\n",
       "      <td>-117.042226</td>\n",
       "      <td>Point</td>\n",
       "      <td>10610</td>\n",
       "      <td>FREESTANDING</td>\n",
       "      <td>350 BRIDGE ST</td>\n",
       "      <td>8632</td>\n",
       "      <td>...</td>\n",
       "      <td>22177</td>\n",
       "      <td>0.000416223</td>\n",
       "      <td>0.00045</td>\n",
       "      <td>8.34</td>\n",
       "      <td>0.000231235</td>\n",
       "      <td>0.00022546</td>\n",
       "      <td>-2.5</td>\n",
       "      <td>0</td>\n",
       "      <td>14.38</td>\n",
       "      <td>18.39</td>\n",
       "    </tr>\n",
       "    <tr>\n",
       "      <th>3</th>\n",
       "      <td>4</td>\n",
       "      <td>0101000020E610000032022A1C41D25DC0B7ED7BD45F21...</td>\n",
       "      <td>RICHLAND</td>\n",
       "      <td>46.260737</td>\n",
       "      <td>-119.285224</td>\n",
       "      <td>Point</td>\n",
       "      <td>6556</td>\n",
       "      <td>FREESTANDING</td>\n",
       "      <td>101 D WELLSIAN WAY</td>\n",
       "      <td>13945</td>\n",
       "      <td>...</td>\n",
       "      <td>243991</td>\n",
       "      <td>0.00061896</td>\n",
       "      <td>0.00066</td>\n",
       "      <td>5.95</td>\n",
       "      <td>0.000135539</td>\n",
       "      <td>0.00012296</td>\n",
       "      <td>-9.28</td>\n",
       "      <td>-20</td>\n",
       "      <td>7.5</td>\n",
       "      <td>15.03</td>\n",
       "    </tr>\n",
       "    <tr>\n",
       "      <th>4</th>\n",
       "      <td>5</td>\n",
       "      <td>0101000020E6100000624B8FA67AF25DC0A48CB800341C...</td>\n",
       "      <td>PROSSER</td>\n",
       "      <td>46.220337</td>\n",
       "      <td>-119.788736</td>\n",
       "      <td>Point</td>\n",
       "      <td>11889</td>\n",
       "      <td>FREESTANDING</td>\n",
       "      <td>103 MERLOT DR</td>\n",
       "      <td>13886</td>\n",
       "      <td>...</td>\n",
       "      <td>243991</td>\n",
       "      <td>0.00061896</td>\n",
       "      <td>0.00066</td>\n",
       "      <td>5.95</td>\n",
       "      <td>0.000135539</td>\n",
       "      <td>0.00012296</td>\n",
       "      <td>-9.28</td>\n",
       "      <td>-20</td>\n",
       "      <td>7.5</td>\n",
       "      <td>15.03</td>\n",
       "    </tr>\n",
       "  </tbody>\n",
       "</table>\n",
       "<p>5 rows × 47 columns</p>\n",
       "</div>"
      ],
      "text/plain": [
       "  id                                           the_geom       city   latitude  \\\n",
       "0  1  0101000020E6100000541C075E2DEB60C09F909DB7B187...      SITKA  57.060111   \n",
       "1  2  0101000020E610000056F31C916FD260C0C8EC2C7AA72E...     JUNEAU  58.364486   \n",
       "2  3  0101000020E61000009E42AED4B3425DC0F9156BB8C835...  CLARKSTON  46.420188   \n",
       "3  4  0101000020E610000032022A1C41D25DC0B7ED7BD45F21...   RICHLAND  46.260737   \n",
       "4  5  0101000020E6100000624B8FA67AF25DC0A48CB800341C...    PROSSER  46.220337   \n",
       "\n",
       "     longitude invalid_the_geom storenumber     storetype  \\\n",
       "0  -135.349288            Point        7972  FREESTANDING   \n",
       "1  -134.576119            Point        6123  FREESTANDING   \n",
       "2  -117.042226            Point       10610  FREESTANDING   \n",
       "3  -119.285224            Point        6556  FREESTANDING   \n",
       "4  -119.788736            Point       11889  FREESTANDING   \n",
       "\n",
       "                address cartodb_id        ...         Population_2014  \\\n",
       "0  913 HALIBUT POINT RD      14168        ...                    8883   \n",
       "1         2285 TROUT ST      14169        ...                   32511   \n",
       "2         350 BRIDGE ST       8632        ...                   22177   \n",
       "3    101 D WELLSIAN WAY      13945        ...                  243991   \n",
       "4         103 MERLOT DR      13886        ...                  243991   \n",
       "\n",
       "  FF_per_capita_2009 FF_per_capita_2014 p_change_FF_Per_Capita  \\\n",
       "0          0.0004504            0.00045                  -0.02   \n",
       "1        0.000703437            0.00095                  35.55   \n",
       "2        0.000416223            0.00045                   8.34   \n",
       "3         0.00061896            0.00066                   5.95   \n",
       "4         0.00061896            0.00066                   5.95   \n",
       "\n",
       "  Grocery_per_capita_2009 Grocery_per_capita_2014  \\\n",
       "0               0.0004504               0.0004503   \n",
       "1             0.000223821              0.00018455   \n",
       "2             0.000231235              0.00022546   \n",
       "3             0.000135539              0.00012296   \n",
       "4             0.000135539              0.00012296   \n",
       "\n",
       "  p_change_in_grocery_per_capita p_change_in_Access p_Change_in_Obesity  \\\n",
       "0                          -0.02                  0               -3.37   \n",
       "1                         -17.54                  0                9.16   \n",
       "2                           -2.5                  0               14.38   \n",
       "3                          -9.28                -20                 7.5   \n",
       "4                          -9.28                -20                 7.5   \n",
       "\n",
       "  p_change_in_income  \n",
       "0              18.06  \n",
       "1              18.68  \n",
       "2              18.39  \n",
       "3              15.03  \n",
       "4              15.03  \n",
       "\n",
       "[5 rows x 47 columns]"
      ]
     },
     "execution_count": 37,
     "metadata": {},
     "output_type": "execute_result"
    }
   ],
   "source": [
    "# Preview DataFrame\n",
    "# Note that some rows are missing gender\n",
    "df.head()"
   ]
  },
  {
   "cell_type": "code",
   "execution_count": 38,
   "metadata": {},
   "outputs": [],
   "source": [
    "df = df.drop(['address', 'phone'], 1)"
   ]
  },
  {
   "cell_type": "code",
   "execution_count": 39,
   "metadata": {},
   "outputs": [
    {
     "data": {
      "text/html": [
       "<div>\n",
       "<style>\n",
       "    .dataframe thead tr:only-child th {\n",
       "        text-align: right;\n",
       "    }\n",
       "\n",
       "    .dataframe thead th {\n",
       "        text-align: left;\n",
       "    }\n",
       "\n",
       "    .dataframe tbody tr th {\n",
       "        vertical-align: top;\n",
       "    }\n",
       "</style>\n",
       "<table border=\"1\" class=\"dataframe\">\n",
       "  <thead>\n",
       "    <tr style=\"text-align: right;\">\n",
       "      <th></th>\n",
       "      <th>id</th>\n",
       "      <th>the_geom</th>\n",
       "      <th>city</th>\n",
       "      <th>latitude</th>\n",
       "      <th>longitude</th>\n",
       "      <th>invalid_the_geom</th>\n",
       "      <th>storenumber</th>\n",
       "      <th>storetype</th>\n",
       "      <th>cartodb_id</th>\n",
       "      <th>state</th>\n",
       "      <th>...</th>\n",
       "      <th>Population_2014</th>\n",
       "      <th>FF_per_capita_2009</th>\n",
       "      <th>FF_per_capita_2014</th>\n",
       "      <th>p_change_FF_Per_Capita</th>\n",
       "      <th>Grocery_per_capita_2009</th>\n",
       "      <th>Grocery_per_capita_2014</th>\n",
       "      <th>p_change_in_grocery_per_capita</th>\n",
       "      <th>p_change_in_Access</th>\n",
       "      <th>p_Change_in_Obesity</th>\n",
       "      <th>p_change_in_income</th>\n",
       "    </tr>\n",
       "  </thead>\n",
       "  <tbody>\n",
       "    <tr>\n",
       "      <th>0</th>\n",
       "      <td>1</td>\n",
       "      <td>0101000020E6100000541C075E2DEB60C09F909DB7B187...</td>\n",
       "      <td>SITKA</td>\n",
       "      <td>57.060111</td>\n",
       "      <td>-135.349288</td>\n",
       "      <td>Point</td>\n",
       "      <td>7972</td>\n",
       "      <td>FREESTANDING</td>\n",
       "      <td>14168</td>\n",
       "      <td>AK</td>\n",
       "      <td>...</td>\n",
       "      <td>8883</td>\n",
       "      <td>0.0004504</td>\n",
       "      <td>0.00045</td>\n",
       "      <td>-0.02</td>\n",
       "      <td>0.0004504</td>\n",
       "      <td>0.0004503</td>\n",
       "      <td>-0.02</td>\n",
       "      <td>0</td>\n",
       "      <td>-3.37</td>\n",
       "      <td>18.06</td>\n",
       "    </tr>\n",
       "    <tr>\n",
       "      <th>1</th>\n",
       "      <td>2</td>\n",
       "      <td>0101000020E610000056F31C916FD260C0C8EC2C7AA72E...</td>\n",
       "      <td>JUNEAU</td>\n",
       "      <td>58.364486</td>\n",
       "      <td>-134.576119</td>\n",
       "      <td>Point</td>\n",
       "      <td>6123</td>\n",
       "      <td>FREESTANDING</td>\n",
       "      <td>14169</td>\n",
       "      <td>AK</td>\n",
       "      <td>...</td>\n",
       "      <td>32511</td>\n",
       "      <td>0.000703437</td>\n",
       "      <td>0.00095</td>\n",
       "      <td>35.55</td>\n",
       "      <td>0.000223821</td>\n",
       "      <td>0.00018455</td>\n",
       "      <td>-17.54</td>\n",
       "      <td>0</td>\n",
       "      <td>9.16</td>\n",
       "      <td>18.68</td>\n",
       "    </tr>\n",
       "    <tr>\n",
       "      <th>2</th>\n",
       "      <td>3</td>\n",
       "      <td>0101000020E61000009E42AED4B3425DC0F9156BB8C835...</td>\n",
       "      <td>CLARKSTON</td>\n",
       "      <td>46.420188</td>\n",
       "      <td>-117.042226</td>\n",
       "      <td>Point</td>\n",
       "      <td>10610</td>\n",
       "      <td>FREESTANDING</td>\n",
       "      <td>8632</td>\n",
       "      <td>WA</td>\n",
       "      <td>...</td>\n",
       "      <td>22177</td>\n",
       "      <td>0.000416223</td>\n",
       "      <td>0.00045</td>\n",
       "      <td>8.34</td>\n",
       "      <td>0.000231235</td>\n",
       "      <td>0.00022546</td>\n",
       "      <td>-2.5</td>\n",
       "      <td>0</td>\n",
       "      <td>14.38</td>\n",
       "      <td>18.39</td>\n",
       "    </tr>\n",
       "    <tr>\n",
       "      <th>3</th>\n",
       "      <td>4</td>\n",
       "      <td>0101000020E610000032022A1C41D25DC0B7ED7BD45F21...</td>\n",
       "      <td>RICHLAND</td>\n",
       "      <td>46.260737</td>\n",
       "      <td>-119.285224</td>\n",
       "      <td>Point</td>\n",
       "      <td>6556</td>\n",
       "      <td>FREESTANDING</td>\n",
       "      <td>13945</td>\n",
       "      <td>WA</td>\n",
       "      <td>...</td>\n",
       "      <td>243991</td>\n",
       "      <td>0.00061896</td>\n",
       "      <td>0.00066</td>\n",
       "      <td>5.95</td>\n",
       "      <td>0.000135539</td>\n",
       "      <td>0.00012296</td>\n",
       "      <td>-9.28</td>\n",
       "      <td>-20</td>\n",
       "      <td>7.5</td>\n",
       "      <td>15.03</td>\n",
       "    </tr>\n",
       "    <tr>\n",
       "      <th>4</th>\n",
       "      <td>5</td>\n",
       "      <td>0101000020E6100000624B8FA67AF25DC0A48CB800341C...</td>\n",
       "      <td>PROSSER</td>\n",
       "      <td>46.220337</td>\n",
       "      <td>-119.788736</td>\n",
       "      <td>Point</td>\n",
       "      <td>11889</td>\n",
       "      <td>FREESTANDING</td>\n",
       "      <td>13886</td>\n",
       "      <td>WA</td>\n",
       "      <td>...</td>\n",
       "      <td>243991</td>\n",
       "      <td>0.00061896</td>\n",
       "      <td>0.00066</td>\n",
       "      <td>5.95</td>\n",
       "      <td>0.000135539</td>\n",
       "      <td>0.00012296</td>\n",
       "      <td>-9.28</td>\n",
       "      <td>-20</td>\n",
       "      <td>7.5</td>\n",
       "      <td>15.03</td>\n",
       "    </tr>\n",
       "  </tbody>\n",
       "</table>\n",
       "<p>5 rows × 45 columns</p>\n",
       "</div>"
      ],
      "text/plain": [
       "  id                                           the_geom       city   latitude  \\\n",
       "0  1  0101000020E6100000541C075E2DEB60C09F909DB7B187...      SITKA  57.060111   \n",
       "1  2  0101000020E610000056F31C916FD260C0C8EC2C7AA72E...     JUNEAU  58.364486   \n",
       "2  3  0101000020E61000009E42AED4B3425DC0F9156BB8C835...  CLARKSTON  46.420188   \n",
       "3  4  0101000020E610000032022A1C41D25DC0B7ED7BD45F21...   RICHLAND  46.260737   \n",
       "4  5  0101000020E6100000624B8FA67AF25DC0A48CB800341C...    PROSSER  46.220337   \n",
       "\n",
       "     longitude invalid_the_geom storenumber     storetype cartodb_id state  \\\n",
       "0  -135.349288            Point        7972  FREESTANDING      14168    AK   \n",
       "1  -134.576119            Point        6123  FREESTANDING      14169    AK   \n",
       "2  -117.042226            Point       10610  FREESTANDING       8632    WA   \n",
       "3  -119.285224            Point        6556  FREESTANDING      13945    WA   \n",
       "4  -119.788736            Point       11889  FREESTANDING      13886    WA   \n",
       "\n",
       "         ...         Population_2014 FF_per_capita_2009 FF_per_capita_2014  \\\n",
       "0        ...                    8883          0.0004504            0.00045   \n",
       "1        ...                   32511        0.000703437            0.00095   \n",
       "2        ...                   22177        0.000416223            0.00045   \n",
       "3        ...                  243991         0.00061896            0.00066   \n",
       "4        ...                  243991         0.00061896            0.00066   \n",
       "\n",
       "  p_change_FF_Per_Capita Grocery_per_capita_2009 Grocery_per_capita_2014  \\\n",
       "0                  -0.02               0.0004504               0.0004503   \n",
       "1                  35.55             0.000223821              0.00018455   \n",
       "2                   8.34             0.000231235              0.00022546   \n",
       "3                   5.95             0.000135539              0.00012296   \n",
       "4                   5.95             0.000135539              0.00012296   \n",
       "\n",
       "  p_change_in_grocery_per_capita p_change_in_Access p_Change_in_Obesity  \\\n",
       "0                          -0.02                  0               -3.37   \n",
       "1                         -17.54                  0                9.16   \n",
       "2                           -2.5                  0               14.38   \n",
       "3                          -9.28                -20                 7.5   \n",
       "4                          -9.28                -20                 7.5   \n",
       "\n",
       "  p_change_in_income  \n",
       "0              18.06  \n",
       "1              18.68  \n",
       "2              18.39  \n",
       "3              15.03  \n",
       "4              15.03  \n",
       "\n",
       "[5 rows x 45 columns]"
      ]
     },
     "execution_count": 39,
     "metadata": {},
     "output_type": "execute_result"
    }
   ],
   "source": [
    "df.head()"
   ]
  },
  {
   "cell_type": "code",
   "execution_count": 40,
   "metadata": {
    "collapsed": true
   },
   "outputs": [],
   "source": [
    "new_csv = \"cleaned.csv\"\n",
    "df.to_csv(new_csv, index=False)"
   ]
  },
  {
   "cell_type": "markdown",
   "metadata": {},
   "source": [
    "# Database Creation"
   ]
  },
  {
   "cell_type": "code",
   "execution_count": 41,
   "metadata": {
    "collapsed": true
   },
   "outputs": [],
   "source": [
    "# Python SQL toolkit and Object Relational Mapper\n",
    "import sqlalchemy\n",
    "from sqlalchemy import create_engine, MetaData\n",
    "from sqlalchemy.ext.declarative import declarative_base\n",
    "from sqlalchemy import Column, Integer, String, Numeric, Text, Float"
   ]
  },
  {
   "cell_type": "code",
   "execution_count": 42,
   "metadata": {
    "collapsed": true
   },
   "outputs": [],
   "source": [
    "# Create an engine to a SQLite database file called `customers.sqlite`\n",
    "engine = create_engine(\"sqlite:///foodstore_seven.sqlite\")"
   ]
  },
  {
   "cell_type": "code",
   "execution_count": 43,
   "metadata": {
    "collapsed": true
   },
   "outputs": [],
   "source": [
    "# Create a connection to the engine called `conn`\n",
    "conn = engine.connect()"
   ]
  },
  {
   "cell_type": "code",
   "execution_count": 47,
   "metadata": {},
   "outputs": [],
   "source": [
    "# Use `declarative_base` from SQLAlchemy to model the demographics table as an ORM class\n",
    "# Make sure to specify types for each column, e.g. Integer, Text, etc.\n",
    "# http://docs.sqlalchemy.org/en/latest/core/type_basics.html\n",
    "Base = declarative_base()\n",
    "\n",
    "class Customer(Base):\n",
    "    __tablename__ = 'food_seven'\n",
    "    \n",
    "    id=Column(Integer,primary_key=True)\n",
    "    the_geom=Column(Text)\n",
    "    city=Column(Text)\n",
    "    latitude=Column(Float)\n",
    "    longitude=Column(Float)\n",
    "    invalid_the_geom=Column(Text)\n",
    "    storenumber=Column(Float)\n",
    "    storetype=Column(String)\n",
    "    #address=Column(String)\n",
    "    cartodb_id=Column(Float)\n",
    "    state=Column(Text)\n",
    "    zip=Column(Float)\n",
    "    #phone=Column(Float)\n",
    "    playplace=Column(Text)\n",
    "    drivethru=Column(Text)\n",
    "    archcard=Column(Text)\n",
    "    freewifi=Column(Text)\n",
    "    storeurl=Column(Text)\n",
    "    cartodb_georef_status=Column(Float)\n",
    "    COUNTY=Column(Text)\n",
    "    Grocery_2009=Column(Float)\n",
    "    Convenience_2009=Column(Float)\n",
    "    Fast_Food_Restaurants_2009=Column(Float)\n",
    "    Adult_Diabetes_p_2009=Column(Float)\n",
    "    Adult_Obsesity_p_2009=Column(Float)\n",
    "    Median_Household_Income_2009=Column(Float)\n",
    "    Limited_Access_Populationp_2009=Column(Float)\n",
    "    Limited_Access_Population_2009=Column(Float)\n",
    "    Population_2009=Column(Float)\n",
    "    Grocery_2014=Column(Float)\n",
    "    Convenience_2014=Column(Float)\n",
    "    Fast_Food_Restaurants_2014=Column(Float)\n",
    "    Adult_Diabetes_2014=Column(Float)\n",
    "    Adult_Obesity_2014=Column(Float)\n",
    "    Median_Household_Income_2014=Column(Float)\n",
    "    Limited_Access_p_2014=Column(Float)\n",
    "    Limited_Access_2014=Column(Float)\n",
    "    Population_2014=Column(Float)\n",
    "    FF_per_capita_2009=Column(Float)\n",
    "    FF_per_capita_2014=Column(Float)\n",
    "    p_change_FF_Per_Capita=Column(Float)\n",
    "    Grocery_per_capita_2009=Column(Float)\n",
    "    Grocery_per_capita_2014=Column(Float)\n",
    "    p_change_in_grocery_per_capita=Column(Float)\n",
    "    p_change_in_Access=Column(Float)\n",
    "    p_Change_in_Obesity=Column(Float)\n",
    "    p_change_in_income=Column(Float)\n",
    "    \n",
    "  "
   ]
  },
  {
   "cell_type": "code",
   "execution_count": 48,
   "metadata": {
    "collapsed": true
   },
   "outputs": [],
   "source": [
    "# Use `create_all` to create the customers table in the database\n",
    "Base.metadata.create_all(engine)"
   ]
  },
  {
   "cell_type": "code",
   "execution_count": 49,
   "metadata": {
    "collapsed": true
   },
   "outputs": [],
   "source": [
    "# Load the cleaned csv file into a pandas dataframe\n",
    "new_df = pd.read_csv(new_csv)"
   ]
  },
  {
   "cell_type": "code",
   "execution_count": 50,
   "metadata": {
    "collapsed": true
   },
   "outputs": [],
   "source": [
    "# Use Orient='records' to create a list of data to write\n",
    "# to_dict() cleans out DataFrame metadata as well\n",
    "# http://pandas-docs.github.io/pandas-docs-travis/io.html#orient-options\n",
    "data = new_df.to_dict(orient='records')"
   ]
  },
  {
   "cell_type": "code",
   "execution_count": 51,
   "metadata": {},
   "outputs": [
    {
     "name": "stdout",
     "output_type": "stream",
     "text": [
      "[{'id': 1, 'the_geom': '0101000020E6100000541C075E2DEB60C09F909DB7B1874C40', 'city': 'SITKA', 'latitude': 57.060111, 'longitude': -135.349288, 'invalid_the_geom': 'Point', 'storenumber': 7972, 'storetype': 'FREESTANDING', 'cartodb_id': 14168, 'state': 'AK', 'zip': 99835, 'playplace': False, 'drivethru': True, 'archcard': True, 'freewifi': True, 'storeurl': 'http://www.mcalaska.com/7972', 'cartodb_georef_status': True, 'COUNTY': 'Sitka', 'Grocery_2009': 4, 'Convenience_2009': 2, 'Fast_Food_Restaurants_2009': 4, 'Adult_Diabetes_p_2009': 7.0, 'Adult_Obsesity_p_2009': 29.7, 'Median_Household_Income_2009': 58000, 'Limited_Access_Populationp_2009': 18, 'Limited_Access_Population_2009': 1617, 'Population_2009': 8881, 'Grocery_2014': 4, 'Convenience_2014': 2, 'Fast_Food_Restaurants_2014': 4, 'Adult_Diabetes_2014': 6.7, 'Adult_Obesity_2014': 28.7, 'Median_Household_Income_2014': 68472, 'Limited_Access_p_2014': 18, 'Limited_Access_2014': 1632, 'Population_2014': 8883, 'FF_per_capita_2009': 0.00045039999999999994, 'FF_per_capita_2014': 0.00045, 'p_change_FF_Per_Capita': -0.02, 'Grocery_per_capita_2009': 0.00045039999999999994, 'Grocery_per_capita_2014': 0.0004503, 'p_change_in_grocery_per_capita': -0.02, 'p_change_in_Access': 0.0, 'p_Change_in_Obesity': -3.37, 'p_change_in_income': 18.06}, {'id': 2, 'the_geom': '0101000020E610000056F31C916FD260C0C8EC2C7AA72E4D40', 'city': 'JUNEAU', 'latitude': 58.364486, 'longitude': -134.576119, 'invalid_the_geom': 'Point', 'storenumber': 6123, 'storetype': 'FREESTANDING', 'cartodb_id': 14169, 'state': 'AK', 'zip': 99801, 'playplace': True, 'drivethru': True, 'archcard': True, 'freewifi': True, 'storeurl': 'http://www.mcalaska.com/6123', 'cartodb_georef_status': True, 'COUNTY': 'Juneau', 'Grocery_2009': 7, 'Convenience_2009': 4, 'Fast_Food_Restaurants_2009': 22, 'Adult_Diabetes_p_2009': 5.5, 'Adult_Obsesity_p_2009': 26.2, 'Median_Household_Income_2009': 69844, 'Limited_Access_Populationp_2009': 32, 'Limited_Access_Population_2009': 10138, 'Population_2009': 31275, 'Grocery_2014': 6, 'Convenience_2014': 9, 'Fast_Food_Restaurants_2014': 31, 'Adult_Diabetes_2014': 5.9, 'Adult_Obesity_2014': 28.6, 'Median_Household_Income_2014': 82892, 'Limited_Access_p_2014': 32, 'Limited_Access_2014': 10063, 'Population_2014': 32511, 'FF_per_capita_2009': 0.000703437, 'FF_per_capita_2014': 0.00095, 'p_change_FF_Per_Capita': 35.55, 'Grocery_per_capita_2009': 0.000223821, 'Grocery_per_capita_2014': 0.00018455, 'p_change_in_grocery_per_capita': -17.54, 'p_change_in_Access': 0.0, 'p_Change_in_Obesity': 9.16, 'p_change_in_income': 18.68}, {'id': 3, 'the_geom': '0101000020E61000009E42AED4B3425DC0F9156BB8C8354740', 'city': 'CLARKSTON', 'latitude': 46.420188, 'longitude': -117.042226, 'invalid_the_geom': 'Point', 'storenumber': 10610, 'storetype': 'FREESTANDING', 'cartodb_id': 8632, 'state': 'WA', 'zip': 99403, 'playplace': True, 'drivethru': True, 'archcard': True, 'freewifi': True, 'storeurl': 'http://www.mcwashington.com/10610', 'cartodb_georef_status': True, 'COUNTY': 'Asotin', 'Grocery_2009': 5, 'Convenience_2009': 4, 'Fast_Food_Restaurants_2009': 9, 'Adult_Diabetes_p_2009': 10.8, 'Adult_Obsesity_p_2009': 29.2, 'Median_Household_Income_2009': 39340, 'Limited_Access_Populationp_2009': 19, 'Limited_Access_Population_2009': 4212, 'Population_2009': 21623, 'Grocery_2014': 5, 'Convenience_2014': 4, 'Fast_Food_Restaurants_2014': 10, 'Adult_Diabetes_2014': 12.9, 'Adult_Obesity_2014': 33.4, 'Median_Household_Income_2014': 46573, 'Limited_Access_p_2014': 19, 'Limited_Access_2014': 4079, 'Population_2014': 22177, 'FF_per_capita_2009': 0.000416223, 'FF_per_capita_2014': 0.00045, 'p_change_FF_Per_Capita': 8.34, 'Grocery_per_capita_2009': 0.000231235, 'Grocery_per_capita_2014': 0.00022546, 'p_change_in_grocery_per_capita': -2.5, 'p_change_in_Access': 0.0, 'p_Change_in_Obesity': 14.38, 'p_change_in_income': 18.39}, {'id': 4, 'the_geom': '0101000020E610000032022A1C41D25DC0B7ED7BD45F214740', 'city': 'RICHLAND', 'latitude': 46.260737, 'longitude': -119.285224, 'invalid_the_geom': 'Point', 'storenumber': 6556, 'storetype': 'FREESTANDING', 'cartodb_id': 13945, 'state': 'WA', 'zip': 99352, 'playplace': False, 'drivethru': True, 'archcard': True, 'freewifi': True, 'storeurl': 'http://www.mcwashington.com/6556', 'cartodb_georef_status': True, 'COUNTY': 'Benton', 'Grocery_2009': 30, 'Convenience_2009': 79, 'Fast_Food_Restaurants_2009': 137, 'Adult_Diabetes_p_2009': 7.3, 'Adult_Obsesity_p_2009': 28.0, 'Median_Household_Income_2009': 52417, 'Limited_Access_Populationp_2009': 20, 'Limited_Access_Population_2009': 43591, 'Population_2009': 221339, 'Grocery_2014': 30, 'Convenience_2014': 86, 'Fast_Food_Restaurants_2014': 160, 'Adult_Diabetes_2014': 9.6, 'Adult_Obesity_2014': 30.1, 'Median_Household_Income_2014': 60294, 'Limited_Access_p_2014': 16, 'Limited_Access_2014': 34547, 'Population_2014': 243991, 'FF_per_capita_2009': 0.00061896, 'FF_per_capita_2014': 0.00066, 'p_change_FF_Per_Capita': 5.95, 'Grocery_per_capita_2009': 0.000135539, 'Grocery_per_capita_2014': 0.00012296, 'p_change_in_grocery_per_capita': -9.28, 'p_change_in_Access': -20.0, 'p_Change_in_Obesity': 7.5, 'p_change_in_income': 15.03}, {'id': 5, 'the_geom': '0101000020E6100000624B8FA67AF25DC0A48CB800341C4740', 'city': 'PROSSER', 'latitude': 46.220337, 'longitude': -119.78873600000001, 'invalid_the_geom': 'Point', 'storenumber': 11889, 'storetype': 'FREESTANDING', 'cartodb_id': 13886, 'state': 'WA', 'zip': 99350, 'playplace': True, 'drivethru': True, 'archcard': True, 'freewifi': True, 'storeurl': 'http://www.mcwashington.com/11889', 'cartodb_georef_status': True, 'COUNTY': 'Benton', 'Grocery_2009': 30, 'Convenience_2009': 79, 'Fast_Food_Restaurants_2009': 137, 'Adult_Diabetes_p_2009': 7.3, 'Adult_Obsesity_p_2009': 28.0, 'Median_Household_Income_2009': 52417, 'Limited_Access_Populationp_2009': 20, 'Limited_Access_Population_2009': 43591, 'Population_2009': 221339, 'Grocery_2014': 30, 'Convenience_2014': 86, 'Fast_Food_Restaurants_2014': 160, 'Adult_Diabetes_2014': 9.6, 'Adult_Obesity_2014': 30.1, 'Median_Household_Income_2014': 60294, 'Limited_Access_p_2014': 16, 'Limited_Access_2014': 34547, 'Population_2014': 243991, 'FF_per_capita_2009': 0.00061896, 'FF_per_capita_2014': 0.00066, 'p_change_FF_Per_Capita': 5.95, 'Grocery_per_capita_2009': 0.000135539, 'Grocery_per_capita_2014': 0.00012296, 'p_change_in_grocery_per_capita': -9.28, 'p_change_in_Access': -20.0, 'p_Change_in_Obesity': 7.5, 'p_change_in_income': 15.03}]\n"
     ]
    }
   ],
   "source": [
    "# Data is just a list of dictionaries that represent each row of data\n",
    "print(data[:5])\n",
    "\n",
    "#data[:1]"
   ]
  },
  {
   "cell_type": "code",
   "execution_count": 52,
   "metadata": {
    "collapsed": true
   },
   "outputs": [],
   "source": [
    "# Use MetaData from SQLAlchemy to reflect the tables\n",
    "metadata = MetaData(bind=engine)\n",
    "metadata.reflect()"
   ]
  },
  {
   "cell_type": "code",
   "execution_count": 53,
   "metadata": {
    "collapsed": true
   },
   "outputs": [],
   "source": [
    "# Save the reference to the `customers` table as a variable called `food`\n",
    "table = sqlalchemy.Table('food_seven', metadata, autoload=True)"
   ]
  },
  {
   "cell_type": "code",
   "execution_count": 54,
   "metadata": {},
   "outputs": [
    {
     "data": {
      "text/plain": [
       "<sqlalchemy.engine.result.ResultProxy at 0x111c154a8>"
      ]
     },
     "execution_count": 54,
     "metadata": {},
     "output_type": "execute_result"
    }
   ],
   "source": [
    "# Use `table.delete()` to remove any pre-existing data.\n",
    "# Note that this is a convenience function so that you can re-run the example code multiple times.\n",
    "# You would not likely do this step in production.\n",
    "conn.execute(table.delete())"
   ]
  },
  {
   "cell_type": "code",
   "execution_count": 55,
   "metadata": {},
   "outputs": [
    {
     "data": {
      "text/plain": [
       "<sqlalchemy.engine.result.ResultProxy at 0x1149506d8>"
      ]
     },
     "execution_count": 55,
     "metadata": {},
     "output_type": "execute_result"
    }
   ],
   "source": [
    "# Use `table.insert()` to insert the data into the table\n",
    "# The SQL table is populated during this step\n",
    "conn.execute(table.insert(), data)"
   ]
  },
  {
   "cell_type": "code",
   "execution_count": 56,
   "metadata": {},
   "outputs": [
    {
     "data": {
      "text/plain": [
       "[(1, '0101000020E6100000541C075E2DEB60C09F909DB7B1874C40', 'SITKA', 57.060111, -135.349288, 'Point', 7972.0, 'FREESTANDING', 14168.0, 'AK', 99835.0, None, '0', '1', '1', '1', 'http://www.mcalaska.com/7972', 1.0, 'Sitka', 4.0, 2.0, 4.0, 7.0, 29.7, 58000.0, 18.0, 1617.0, 8881.0, 4.0, 2.0, 4.0, 6.7, 28.7, 68472.0, 18.0, 1632.0, 8883.0, 0.00045039999999999994, 0.00045, -0.02, 0.00045039999999999994, 0.0004503, -0.02, 0.0, -3.37, 18.06),\n",
       " (2, '0101000020E610000056F31C916FD260C0C8EC2C7AA72E4D40', 'JUNEAU', 58.364486, -134.576119, 'Point', 6123.0, 'FREESTANDING', 14169.0, 'AK', 99801.0, None, '1', '1', '1', '1', 'http://www.mcalaska.com/6123', 1.0, 'Juneau', 7.0, 4.0, 22.0, 5.5, 26.2, 69844.0, 32.0, 10138.0, 31275.0, 6.0, 9.0, 31.0, 5.9, 28.6, 82892.0, 32.0, 10063.0, 32511.0, 0.000703437, 0.00095, 35.55, 0.000223821, 0.00018455, -17.54, 0.0, 9.16, 18.68),\n",
       " (3, '0101000020E61000009E42AED4B3425DC0F9156BB8C8354740', 'CLARKSTON', 46.420188, -117.042226, 'Point', 10610.0, 'FREESTANDING', 8632.0, 'WA', 99403.0, None, '1', '1', '1', '1', 'http://www.mcwashington.com/10610', 1.0, 'Asotin', 5.0, 4.0, 9.0, 10.8, 29.2, 39340.0, 19.0, 4212.0, 21623.0, 5.0, 4.0, 10.0, 12.9, 33.4, 46573.0, 19.0, 4079.0, 22177.0, 0.000416223, 0.00045, 8.34, 0.000231235, 0.00022546, -2.5, 0.0, 14.38, 18.39),\n",
       " (4, '0101000020E610000032022A1C41D25DC0B7ED7BD45F214740', 'RICHLAND', 46.260737, -119.285224, 'Point', 6556.0, 'FREESTANDING', 13945.0, 'WA', 99352.0, None, '0', '1', '1', '1', 'http://www.mcwashington.com/6556', 1.0, 'Benton', 30.0, 79.0, 137.0, 7.3, 28.0, 52417.0, 20.0, 43591.0, 221339.0, 30.0, 86.0, 160.0, 9.6, 30.1, 60294.0, 16.0, 34547.0, 243991.0, 0.00061896, 0.00066, 5.95, 0.000135539, 0.00012296, -9.28, -20.0, 7.5, 15.03),\n",
       " (5, '0101000020E6100000624B8FA67AF25DC0A48CB800341C4740', 'PROSSER', 46.220337, -119.78873600000001, 'Point', 11889.0, 'FREESTANDING', 13886.0, 'WA', 99350.0, None, '1', '1', '1', '1', 'http://www.mcwashington.com/11889', 1.0, 'Benton', 30.0, 79.0, 137.0, 7.3, 28.0, 52417.0, 20.0, 43591.0, 221339.0, 30.0, 86.0, 160.0, 9.6, 30.1, 60294.0, 16.0, 34547.0, 243991.0, 0.00061896, 0.00066, 5.95, 0.000135539, 0.00012296, -9.28, -20.0, 7.5, 15.03)]"
      ]
     },
     "execution_count": 56,
     "metadata": {},
     "output_type": "execute_result"
    }
   ],
   "source": [
    "# Test that the insert works by fetching the first 5 rows. \n",
    "conn.execute(\"select * from food_seven limit 5\").fetchall()"
   ]
  },
  {
   "cell_type": "code",
   "execution_count": null,
   "metadata": {
    "collapsed": true
   },
   "outputs": [],
   "source": []
  }
 ],
 "metadata": {
  "kernelspec": {
   "display_name": "Python 3",
   "language": "python",
   "name": "python3"
  },
  "language_info": {
   "codemirror_mode": {
    "name": "ipython",
    "version": 3
   },
   "file_extension": ".py",
   "mimetype": "text/x-python",
   "name": "python",
   "nbconvert_exporter": "python",
   "pygments_lexer": "ipython3",
   "version": "3.6.3"
  },
  "nteract": {
   "version": "0.2.0"
  },
  "varInspector": {
   "cols": {
    "lenName": 16,
    "lenType": 16,
    "lenVar": 40
   },
   "kernels_config": {
    "python": {
     "delete_cmd_postfix": "",
     "delete_cmd_prefix": "del ",
     "library": "var_list.py",
     "varRefreshCmd": "print(var_dic_list())"
    },
    "r": {
     "delete_cmd_postfix": ") ",
     "delete_cmd_prefix": "rm(",
     "library": "var_list.r",
     "varRefreshCmd": "cat(var_dic_list()) "
    }
   },
   "types_to_exclude": [
    "module",
    "function",
    "builtin_function_or_method",
    "instance",
    "_Feature"
   ],
   "window_display": false
  }
 },
 "nbformat": 4,
 "nbformat_minor": 2
}
