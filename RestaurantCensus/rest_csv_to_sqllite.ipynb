{
 "cells": [
  {
   "cell_type": "code",
   "execution_count": 1,
   "metadata": {},
   "outputs": [
    {
     "name": "stderr",
     "output_type": "stream",
     "text": [
      "rm: cannot remove 'customers.sqlite': No such file or directory\n",
      "rm: cannot remove 'customers_cleaned.csv': No such file or directory\n"
     ]
    }
   ],
   "source": [
    "!rm customers.sqlite food_new.csv"
   ]
  },
  {
   "cell_type": "code",
   "execution_count": 137,
   "metadata": {
    "collapsed": true
   },
   "outputs": [],
   "source": [
    "# Dependencies\n",
    "import pandas as pd\n",
    "import numpy as np\n",
    "import os"
   ]
  },
  {
   "cell_type": "markdown",
   "metadata": {},
   "source": [
    "# Data Cleaning"
   ]
  },
  {
   "cell_type": "code",
   "execution_count": 138,
   "metadata": {
    "collapsed": true
   },
   "outputs": [],
   "source": [
    "# Path of the CSV file\n",
    "csvfile = \"restaurant_updated.csv\""
   ]
  },
  {
   "cell_type": "code",
   "execution_count": 139,
   "metadata": {
    "collapsed": true
   },
   "outputs": [],
   "source": [
    "# Read CSV file into a pandas DataFrame\n",
    "df = pd.read_csv(csvfile, dtype=object)"
   ]
  },
  {
   "cell_type": "code",
   "execution_count": 140,
   "metadata": {},
   "outputs": [
    {
     "data": {
      "text/html": [
       "<div>\n",
       "<style>\n",
       "    .dataframe thead tr:only-child th {\n",
       "        text-align: right;\n",
       "    }\n",
       "\n",
       "    .dataframe thead th {\n",
       "        text-align: left;\n",
       "    }\n",
       "\n",
       "    .dataframe tbody tr th {\n",
       "        vertical-align: top;\n",
       "    }\n",
       "</style>\n",
       "<table border=\"1\" class=\"dataframe\">\n",
       "  <thead>\n",
       "    <tr style=\"text-align: right;\">\n",
       "      <th></th>\n",
       "      <th>id</th>\n",
       "      <th>the_geom</th>\n",
       "      <th>city</th>\n",
       "      <th>latitude</th>\n",
       "      <th>longitude</th>\n",
       "      <th>invalid_the_geom</th>\n",
       "      <th>storenumber</th>\n",
       "      <th>storetype</th>\n",
       "      <th>address</th>\n",
       "      <th>cartodb_id</th>\n",
       "      <th>...</th>\n",
       "      <th>Population_2014</th>\n",
       "      <th>FF_per_capita_2009</th>\n",
       "      <th>FF_per_capita_2014</th>\n",
       "      <th>p_change_FF_Per_Capita</th>\n",
       "      <th>Grocery_per_capita_2009</th>\n",
       "      <th>Grocery_per_capita_2014</th>\n",
       "      <th>p_change_in_grocery_per_capita</th>\n",
       "      <th>p_change_in_Access</th>\n",
       "      <th>p_Change_in_Obesity</th>\n",
       "      <th>p_change_in_income</th>\n",
       "    </tr>\n",
       "  </thead>\n",
       "  <tbody>\n",
       "    <tr>\n",
       "      <th>0</th>\n",
       "      <td>1</td>\n",
       "      <td>0101000020E6100000541C075E2DEB60C09F909DB7B187...</td>\n",
       "      <td>SITKA</td>\n",
       "      <td>57.060111</td>\n",
       "      <td>-135.349288</td>\n",
       "      <td>Point</td>\n",
       "      <td>7972</td>\n",
       "      <td>FREESTANDING</td>\n",
       "      <td>913 HALIBUT POINT RD</td>\n",
       "      <td>14168</td>\n",
       "      <td>...</td>\n",
       "      <td>8883</td>\n",
       "      <td>0.0004504</td>\n",
       "      <td>0.00045</td>\n",
       "      <td>-0.02</td>\n",
       "      <td>0.0004504</td>\n",
       "      <td>0.0004503</td>\n",
       "      <td>-0.02</td>\n",
       "      <td>0</td>\n",
       "      <td>-3.37</td>\n",
       "      <td>18.06</td>\n",
       "    </tr>\n",
       "    <tr>\n",
       "      <th>1</th>\n",
       "      <td>2</td>\n",
       "      <td>0101000020E610000056F31C916FD260C0C8EC2C7AA72E...</td>\n",
       "      <td>JUNEAU</td>\n",
       "      <td>58.364486</td>\n",
       "      <td>-134.576119</td>\n",
       "      <td>Point</td>\n",
       "      <td>6123</td>\n",
       "      <td>FREESTANDING</td>\n",
       "      <td>2285 TROUT ST</td>\n",
       "      <td>14169</td>\n",
       "      <td>...</td>\n",
       "      <td>32511</td>\n",
       "      <td>0.000703437</td>\n",
       "      <td>0.00095</td>\n",
       "      <td>35.55</td>\n",
       "      <td>0.000223821</td>\n",
       "      <td>0.00018455</td>\n",
       "      <td>-17.54</td>\n",
       "      <td>0</td>\n",
       "      <td>9.16</td>\n",
       "      <td>18.68</td>\n",
       "    </tr>\n",
       "    <tr>\n",
       "      <th>2</th>\n",
       "      <td>3</td>\n",
       "      <td>0101000020E61000009E42AED4B3425DC0F9156BB8C835...</td>\n",
       "      <td>CLARKSTON</td>\n",
       "      <td>46.420188</td>\n",
       "      <td>-117.042226</td>\n",
       "      <td>Point</td>\n",
       "      <td>10610</td>\n",
       "      <td>FREESTANDING</td>\n",
       "      <td>350 BRIDGE ST</td>\n",
       "      <td>8632</td>\n",
       "      <td>...</td>\n",
       "      <td>22177</td>\n",
       "      <td>0.000416223</td>\n",
       "      <td>0.00045</td>\n",
       "      <td>8.34</td>\n",
       "      <td>0.000231235</td>\n",
       "      <td>0.00022546</td>\n",
       "      <td>-2.5</td>\n",
       "      <td>0</td>\n",
       "      <td>14.38</td>\n",
       "      <td>18.39</td>\n",
       "    </tr>\n",
       "    <tr>\n",
       "      <th>3</th>\n",
       "      <td>4</td>\n",
       "      <td>0101000020E610000032022A1C41D25DC0B7ED7BD45F21...</td>\n",
       "      <td>RICHLAND</td>\n",
       "      <td>46.260737</td>\n",
       "      <td>-119.285224</td>\n",
       "      <td>Point</td>\n",
       "      <td>6556</td>\n",
       "      <td>FREESTANDING</td>\n",
       "      <td>101 D WELLSIAN WAY</td>\n",
       "      <td>13945</td>\n",
       "      <td>...</td>\n",
       "      <td>243991</td>\n",
       "      <td>0.00061896</td>\n",
       "      <td>0.00066</td>\n",
       "      <td>5.95</td>\n",
       "      <td>0.000135539</td>\n",
       "      <td>0.00012296</td>\n",
       "      <td>-9.28</td>\n",
       "      <td>-20</td>\n",
       "      <td>7.5</td>\n",
       "      <td>15.03</td>\n",
       "    </tr>\n",
       "    <tr>\n",
       "      <th>4</th>\n",
       "      <td>5</td>\n",
       "      <td>0101000020E6100000624B8FA67AF25DC0A48CB800341C...</td>\n",
       "      <td>PROSSER</td>\n",
       "      <td>46.220337</td>\n",
       "      <td>-119.788736</td>\n",
       "      <td>Point</td>\n",
       "      <td>11889</td>\n",
       "      <td>FREESTANDING</td>\n",
       "      <td>103 MERLOT DR</td>\n",
       "      <td>13886</td>\n",
       "      <td>...</td>\n",
       "      <td>243991</td>\n",
       "      <td>0.00061896</td>\n",
       "      <td>0.00066</td>\n",
       "      <td>5.95</td>\n",
       "      <td>0.000135539</td>\n",
       "      <td>0.00012296</td>\n",
       "      <td>-9.28</td>\n",
       "      <td>-20</td>\n",
       "      <td>7.5</td>\n",
       "      <td>15.03</td>\n",
       "    </tr>\n",
       "  </tbody>\n",
       "</table>\n",
       "<p>5 rows × 47 columns</p>\n",
       "</div>"
      ],
      "text/plain": [
       "  id                                           the_geom       city   latitude  \\\n",
       "0  1  0101000020E6100000541C075E2DEB60C09F909DB7B187...      SITKA  57.060111   \n",
       "1  2  0101000020E610000056F31C916FD260C0C8EC2C7AA72E...     JUNEAU  58.364486   \n",
       "2  3  0101000020E61000009E42AED4B3425DC0F9156BB8C835...  CLARKSTON  46.420188   \n",
       "3  4  0101000020E610000032022A1C41D25DC0B7ED7BD45F21...   RICHLAND  46.260737   \n",
       "4  5  0101000020E6100000624B8FA67AF25DC0A48CB800341C...    PROSSER  46.220337   \n",
       "\n",
       "     longitude invalid_the_geom storenumber     storetype  \\\n",
       "0  -135.349288            Point        7972  FREESTANDING   \n",
       "1  -134.576119            Point        6123  FREESTANDING   \n",
       "2  -117.042226            Point       10610  FREESTANDING   \n",
       "3  -119.285224            Point        6556  FREESTANDING   \n",
       "4  -119.788736            Point       11889  FREESTANDING   \n",
       "\n",
       "                address cartodb_id        ...         Population_2014  \\\n",
       "0  913 HALIBUT POINT RD      14168        ...                    8883   \n",
       "1         2285 TROUT ST      14169        ...                   32511   \n",
       "2         350 BRIDGE ST       8632        ...                   22177   \n",
       "3    101 D WELLSIAN WAY      13945        ...                  243991   \n",
       "4         103 MERLOT DR      13886        ...                  243991   \n",
       "\n",
       "  FF_per_capita_2009 FF_per_capita_2014 p_change_FF_Per_Capita  \\\n",
       "0          0.0004504            0.00045                  -0.02   \n",
       "1        0.000703437            0.00095                  35.55   \n",
       "2        0.000416223            0.00045                   8.34   \n",
       "3         0.00061896            0.00066                   5.95   \n",
       "4         0.00061896            0.00066                   5.95   \n",
       "\n",
       "  Grocery_per_capita_2009 Grocery_per_capita_2014  \\\n",
       "0               0.0004504               0.0004503   \n",
       "1             0.000223821              0.00018455   \n",
       "2             0.000231235              0.00022546   \n",
       "3             0.000135539              0.00012296   \n",
       "4             0.000135539              0.00012296   \n",
       "\n",
       "  p_change_in_grocery_per_capita p_change_in_Access p_Change_in_Obesity  \\\n",
       "0                          -0.02                  0               -3.37   \n",
       "1                         -17.54                  0                9.16   \n",
       "2                           -2.5                  0               14.38   \n",
       "3                          -9.28                -20                 7.5   \n",
       "4                          -9.28                -20                 7.5   \n",
       "\n",
       "  p_change_in_income  \n",
       "0              18.06  \n",
       "1              18.68  \n",
       "2              18.39  \n",
       "3              15.03  \n",
       "4              15.03  \n",
       "\n",
       "[5 rows x 47 columns]"
      ]
     },
     "execution_count": 140,
     "metadata": {},
     "output_type": "execute_result"
    }
   ],
   "source": [
    "# Preview DataFrame\n",
    "# Note that some rows are missing gender\n",
    "df.head()"
   ]
  },
  {
   "cell_type": "code",
   "execution_count": 106,
   "metadata": {},
   "outputs": [
    {
     "ename": "AttributeError",
     "evalue": "'DataFrame' object has no attribute 'pd'",
     "output_type": "error",
     "traceback": [
      "\u001b[1;31m---------------------------------------------------------------------------\u001b[0m",
      "\u001b[1;31mAttributeError\u001b[0m                            Traceback (most recent call last)",
      "\u001b[1;32m<ipython-input-106-c9ebe2185d9b>\u001b[0m in \u001b[0;36m<module>\u001b[1;34m()\u001b[0m\n\u001b[1;32m----> 1\u001b[1;33m \u001b[0mdf\u001b[0m\u001b[1;33m.\u001b[0m\u001b[0mpd\u001b[0m\u001b[1;33m.\u001b[0m\u001b[0mto_numeric\u001b[0m\u001b[1;33m(\u001b[0m\u001b[0ms\u001b[0m\u001b[1;33m,\u001b[0m \u001b[0mdowncast\u001b[0m\u001b[1;33m=\u001b[0m\u001b[1;34m'float'\u001b[0m\u001b[1;33m)\u001b[0m\u001b[1;33m\u001b[0m\u001b[0m\n\u001b[0m",
      "\u001b[1;32m~\\Anaconda3\\lib\\site-packages\\pandas\\core\\generic.py\u001b[0m in \u001b[0;36m__getattr__\u001b[1;34m(self, name)\u001b[0m\n\u001b[0;32m   3079\u001b[0m             \u001b[1;32mif\u001b[0m \u001b[0mname\u001b[0m \u001b[1;32min\u001b[0m \u001b[0mself\u001b[0m\u001b[1;33m.\u001b[0m\u001b[0m_info_axis\u001b[0m\u001b[1;33m:\u001b[0m\u001b[1;33m\u001b[0m\u001b[0m\n\u001b[0;32m   3080\u001b[0m                 \u001b[1;32mreturn\u001b[0m \u001b[0mself\u001b[0m\u001b[1;33m[\u001b[0m\u001b[0mname\u001b[0m\u001b[1;33m]\u001b[0m\u001b[1;33m\u001b[0m\u001b[0m\n\u001b[1;32m-> 3081\u001b[1;33m             \u001b[1;32mreturn\u001b[0m \u001b[0mobject\u001b[0m\u001b[1;33m.\u001b[0m\u001b[0m__getattribute__\u001b[0m\u001b[1;33m(\u001b[0m\u001b[0mself\u001b[0m\u001b[1;33m,\u001b[0m \u001b[0mname\u001b[0m\u001b[1;33m)\u001b[0m\u001b[1;33m\u001b[0m\u001b[0m\n\u001b[0m\u001b[0;32m   3082\u001b[0m \u001b[1;33m\u001b[0m\u001b[0m\n\u001b[0;32m   3083\u001b[0m     \u001b[1;32mdef\u001b[0m \u001b[0m__setattr__\u001b[0m\u001b[1;33m(\u001b[0m\u001b[0mself\u001b[0m\u001b[1;33m,\u001b[0m \u001b[0mname\u001b[0m\u001b[1;33m,\u001b[0m \u001b[0mvalue\u001b[0m\u001b[1;33m)\u001b[0m\u001b[1;33m:\u001b[0m\u001b[1;33m\u001b[0m\u001b[0m\n",
      "\u001b[1;31mAttributeError\u001b[0m: 'DataFrame' object has no attribute 'pd'"
     ]
    }
   ],
   "source": []
  },
  {
   "cell_type": "markdown",
   "metadata": {},
   "source": [
    "# Database Creation"
   ]
  },
  {
   "cell_type": "code",
   "execution_count": 141,
   "metadata": {
    "collapsed": true
   },
   "outputs": [],
   "source": [
    "# Python SQL toolkit and Object Relational Mapper\n",
    "import sqlalchemy\n",
    "from sqlalchemy import create_engine, MetaData\n",
    "from sqlalchemy.ext.declarative import declarative_base\n",
    "from sqlalchemy import Column, Integer, String, Numeric, Text, Float"
   ]
  },
  {
   "cell_type": "code",
   "execution_count": 142,
   "metadata": {
    "collapsed": true
   },
   "outputs": [],
   "source": [
    "# Create an engine to a SQLite database file called `customers.sqlite`\n",
    "engine = create_engine(\"sqlite:///foodstore_three.sqlite\")"
   ]
  },
  {
   "cell_type": "code",
   "execution_count": 143,
   "metadata": {
    "collapsed": true
   },
   "outputs": [],
   "source": [
    "# Create a connection to the engine called `conn`\n",
    "conn = engine.connect()"
   ]
  },
  {
   "cell_type": "code",
   "execution_count": 144,
   "metadata": {
    "collapsed": true
   },
   "outputs": [],
   "source": [
    "# Use `declarative_base` from SQLAlchemy to model the demographics table as an ORM class\n",
    "# Make sure to specify types for each column, e.g. Integer, Text, etc.\n",
    "# http://docs.sqlalchemy.org/en/latest/core/type_basics.html\n",
    "Base = declarative_base()\n",
    "\n",
    "class Customer(Base):\n",
    "    __tablename__ = 'food_four'\n",
    "    \n",
    "    id=Column(Integer,primary_key=True)\n",
    "    the_geom=Column(Text)\n",
    "    city=Column(Text)\n",
    "    latitude=Column(Float)\n",
    "    longitude=Column(Float)\n",
    "    invalid_the_geom=Column(Float)\n",
    "    storenumber=Column(Float)\n",
    "    storetype=Column(Float)\n",
    "    address=Column(Float)\n",
    "    cartodb_id=Column(Float)\n",
    "    state=Column(Text)\n",
    "    zip=Column(Float)\n",
    "    phone=Column(Float)\n",
    "    playplace=Column(Text)\n",
    "    drivethru=Column(Text)\n",
    "    archcard=Column(Text)\n",
    "    freewifi=Column(Text)\n",
    "    storeurl=Column(Text)\n",
    "    cartodb_georef_status=Column(Float)\n",
    "    COUNTY=Column(Text)\n",
    "    Grocery_2009=Column(Float)\n",
    "    Convenience_2009=Column(Float)\n",
    "    Fast_Food_Restaurants_2009=Column(Float)\n",
    "    Adult_Diabetes_p_2009=Column(Float)\n",
    "    Adult_Obsesity_p_2009=Column(Float)\n",
    "    Median_Household_Income_2009=Column(Float)\n",
    "    Limited_Access_Populationp_2009=Column(Float)\n",
    "    Limited_Access_Population_2009=Column(Float)\n",
    "    Population_2009=Column(Float)\n",
    "    Grocery_2014=Column(Float)\n",
    "    Convenience_2014=Column(Float)\n",
    "    Fast_Food_Restaurants_2014=Column(Float)\n",
    "    Adult_Diabetes_2014=Column(Float)\n",
    "    Adult_Obesity_2014=Column(Float)\n",
    "    Median_Household_Income_2014=Column(Float)\n",
    "    Limited_Access_p_2014=Column(Float)\n",
    "    Limited_Access_2014=Column(Float)\n",
    "    Population_2014=Column(Float)\n",
    "    FF_per_capita_2009=Column(Float)\n",
    "    FF_per_capita_2014=Column(Float)\n",
    "    p_change_FF_Per_Capita=Column(Float)\n",
    "    Grocery_per_capita_2009=Column(Float)\n",
    "    Grocery_per_capita_2014=Column(Float)\n",
    "    p_change_in_grocery_per_capita=Column(Float)\n",
    "    p_change_in_Access=Column(Float)\n",
    "    p_Change_in_Obesity=Column(Float)\n",
    "    p_change_in_income=Column(Float)\n",
    "    \n",
    "       \n",
    "    def __repr__(self):\n",
    "        return f\"id={self.id}, name={self.name}\"\n",
    "# More on __repr__: https://stackoverflow.com/questions/1984162/purpose-of-pythons-repr    "
   ]
  },
  {
   "cell_type": "code",
   "execution_count": 145,
   "metadata": {
    "collapsed": true
   },
   "outputs": [],
   "source": [
    "# Use `create_all` to create the customers table in the database\n",
    "Base.metadata.create_all(engine)"
   ]
  },
  {
   "cell_type": "code",
   "execution_count": 146,
   "metadata": {
    "collapsed": true
   },
   "outputs": [],
   "source": [
    "# Load the cleaned csv file into a pandas dataframe\n",
    "new_df = pd.read_csv(csvfile)"
   ]
  },
  {
   "cell_type": "code",
   "execution_count": 147,
   "metadata": {
    "collapsed": true
   },
   "outputs": [],
   "source": [
    "# Use Orient='records' to create a list of data to write\n",
    "# to_dict() cleans out DataFrame metadata as well\n",
    "# http://pandas-docs.github.io/pandas-docs-travis/io.html#orient-options\n",
    "data = new_df.to_dict(orient='records')"
   ]
  },
  {
   "cell_type": "code",
   "execution_count": 148,
   "metadata": {},
   "outputs": [
    {
     "name": "stdout",
     "output_type": "stream",
     "text": [
      "[{'id': 1, 'the_geom': '0101000020E6100000541C075E2DEB60C09F909DB7B1874C40', 'city': 'SITKA', 'latitude': 57.060111, 'longitude': -135.349288, 'invalid_the_geom': 'Point', 'storenumber': 7972, 'storetype': 'FREESTANDING', 'address': '913 HALIBUT POINT RD', 'cartodb_id': 14168, 'state': 'AK', 'zip': 99835, 'phone': '(907)747-8709', 'playplace': False, 'drivethru': True, 'archcard': True, 'freewifi': True, 'storeurl': 'http://www.mcalaska.com/7972', 'cartodb_georef_status': True, 'COUNTY': 'Sitka', 'Grocery_2009': 4, 'Convenience_2009': 2, 'Fast_Food_Restaurants_2009': 4, 'Adult_Diabetes_p_2009': 7.0, 'Adult_Obsesity_p_2009': 29.7, 'Median_Household_Income_2009': 58000, 'Limited_Access_Populationp_2009': 18, 'Limited_Access_Population_2009': 1617, 'Population_2009': 8881, 'Grocery_2014': 4, 'Convenience_2014': 2, 'Fast_Food_Restaurants_2014': 4, 'Adult_Diabetes_2014': 6.7, 'Adult_Obesity_2014': 28.7, 'Median_Household_Income_2014': 68472, 'Limited_Access_p_2014': 18, 'Limited_Access_2014': 1632, 'Population_2014': 8883, 'FF_per_capita_2009': 0.00045039999999999994, 'FF_per_capita_2014': 0.00045, 'p_change_FF_Per_Capita': -0.02, 'Grocery_per_capita_2009': 0.00045039999999999994, 'Grocery_per_capita_2014': 0.0004503, 'p_change_in_grocery_per_capita': -0.02, 'p_change_in_Access': 0.0, 'p_Change_in_Obesity': -3.37, 'p_change_in_income': 18.06}, {'id': 2, 'the_geom': '0101000020E610000056F31C916FD260C0C8EC2C7AA72E4D40', 'city': 'JUNEAU', 'latitude': 58.364486, 'longitude': -134.576119, 'invalid_the_geom': 'Point', 'storenumber': 6123, 'storetype': 'FREESTANDING', 'address': '2285 TROUT ST', 'cartodb_id': 14169, 'state': 'AK', 'zip': 99801, 'phone': '(907)789-4653', 'playplace': True, 'drivethru': True, 'archcard': True, 'freewifi': True, 'storeurl': 'http://www.mcalaska.com/6123', 'cartodb_georef_status': True, 'COUNTY': 'Juneau', 'Grocery_2009': 7, 'Convenience_2009': 4, 'Fast_Food_Restaurants_2009': 22, 'Adult_Diabetes_p_2009': 5.5, 'Adult_Obsesity_p_2009': 26.2, 'Median_Household_Income_2009': 69844, 'Limited_Access_Populationp_2009': 32, 'Limited_Access_Population_2009': 10138, 'Population_2009': 31275, 'Grocery_2014': 6, 'Convenience_2014': 9, 'Fast_Food_Restaurants_2014': 31, 'Adult_Diabetes_2014': 5.9, 'Adult_Obesity_2014': 28.6, 'Median_Household_Income_2014': 82892, 'Limited_Access_p_2014': 32, 'Limited_Access_2014': 10063, 'Population_2014': 32511, 'FF_per_capita_2009': 0.000703437, 'FF_per_capita_2014': 0.00095, 'p_change_FF_Per_Capita': 35.55, 'Grocery_per_capita_2009': 0.000223821, 'Grocery_per_capita_2014': 0.00018455, 'p_change_in_grocery_per_capita': -17.54, 'p_change_in_Access': 0.0, 'p_Change_in_Obesity': 9.16, 'p_change_in_income': 18.68}, {'id': 3, 'the_geom': '0101000020E61000009E42AED4B3425DC0F9156BB8C8354740', 'city': 'CLARKSTON', 'latitude': 46.420188, 'longitude': -117.042226, 'invalid_the_geom': 'Point', 'storenumber': 10610, 'storetype': 'FREESTANDING', 'address': '350 BRIDGE ST', 'cartodb_id': 8632, 'state': 'WA', 'zip': 99403, 'phone': '(509)758-9603', 'playplace': True, 'drivethru': True, 'archcard': True, 'freewifi': True, 'storeurl': 'http://www.mcwashington.com/10610', 'cartodb_georef_status': True, 'COUNTY': 'Asotin', 'Grocery_2009': 5, 'Convenience_2009': 4, 'Fast_Food_Restaurants_2009': 9, 'Adult_Diabetes_p_2009': 10.8, 'Adult_Obsesity_p_2009': 29.2, 'Median_Household_Income_2009': 39340, 'Limited_Access_Populationp_2009': 19, 'Limited_Access_Population_2009': 4212, 'Population_2009': 21623, 'Grocery_2014': 5, 'Convenience_2014': 4, 'Fast_Food_Restaurants_2014': 10, 'Adult_Diabetes_2014': 12.9, 'Adult_Obesity_2014': 33.4, 'Median_Household_Income_2014': 46573, 'Limited_Access_p_2014': 19, 'Limited_Access_2014': 4079, 'Population_2014': 22177, 'FF_per_capita_2009': 0.000416223, 'FF_per_capita_2014': 0.00045, 'p_change_FF_Per_Capita': 8.34, 'Grocery_per_capita_2009': 0.000231235, 'Grocery_per_capita_2014': 0.00022546, 'p_change_in_grocery_per_capita': -2.5, 'p_change_in_Access': 0.0, 'p_Change_in_Obesity': 14.38, 'p_change_in_income': 18.39}, {'id': 4, 'the_geom': '0101000020E610000032022A1C41D25DC0B7ED7BD45F214740', 'city': 'RICHLAND', 'latitude': 46.260737, 'longitude': -119.285224, 'invalid_the_geom': 'Point', 'storenumber': 6556, 'storetype': 'FREESTANDING', 'address': '101 D WELLSIAN WAY', 'cartodb_id': 13945, 'state': 'WA', 'zip': 99352, 'phone': '(509)943-5101', 'playplace': False, 'drivethru': True, 'archcard': True, 'freewifi': True, 'storeurl': 'http://www.mcwashington.com/6556', 'cartodb_georef_status': True, 'COUNTY': 'Benton', 'Grocery_2009': 30, 'Convenience_2009': 79, 'Fast_Food_Restaurants_2009': 137, 'Adult_Diabetes_p_2009': 7.3, 'Adult_Obsesity_p_2009': 28.0, 'Median_Household_Income_2009': 52417, 'Limited_Access_Populationp_2009': 20, 'Limited_Access_Population_2009': 43591, 'Population_2009': 221339, 'Grocery_2014': 30, 'Convenience_2014': 86, 'Fast_Food_Restaurants_2014': 160, 'Adult_Diabetes_2014': 9.6, 'Adult_Obesity_2014': 30.1, 'Median_Household_Income_2014': 60294, 'Limited_Access_p_2014': 16, 'Limited_Access_2014': 34547, 'Population_2014': 243991, 'FF_per_capita_2009': 0.00061896, 'FF_per_capita_2014': 0.00066, 'p_change_FF_Per_Capita': 5.95, 'Grocery_per_capita_2009': 0.000135539, 'Grocery_per_capita_2014': 0.00012296, 'p_change_in_grocery_per_capita': -9.28, 'p_change_in_Access': -20.0, 'p_Change_in_Obesity': 7.5, 'p_change_in_income': 15.03}, {'id': 5, 'the_geom': '0101000020E6100000624B8FA67AF25DC0A48CB800341C4740', 'city': 'PROSSER', 'latitude': 46.220337, 'longitude': -119.78873600000001, 'invalid_the_geom': 'Point', 'storenumber': 11889, 'storetype': 'FREESTANDING', 'address': '103 MERLOT DR', 'cartodb_id': 13886, 'state': 'WA', 'zip': 99350, 'phone': '(509)786-7222', 'playplace': True, 'drivethru': True, 'archcard': True, 'freewifi': True, 'storeurl': 'http://www.mcwashington.com/11889', 'cartodb_georef_status': True, 'COUNTY': 'Benton', 'Grocery_2009': 30, 'Convenience_2009': 79, 'Fast_Food_Restaurants_2009': 137, 'Adult_Diabetes_p_2009': 7.3, 'Adult_Obsesity_p_2009': 28.0, 'Median_Household_Income_2009': 52417, 'Limited_Access_Populationp_2009': 20, 'Limited_Access_Population_2009': 43591, 'Population_2009': 221339, 'Grocery_2014': 30, 'Convenience_2014': 86, 'Fast_Food_Restaurants_2014': 160, 'Adult_Diabetes_2014': 9.6, 'Adult_Obesity_2014': 30.1, 'Median_Household_Income_2014': 60294, 'Limited_Access_p_2014': 16, 'Limited_Access_2014': 34547, 'Population_2014': 243991, 'FF_per_capita_2009': 0.00061896, 'FF_per_capita_2014': 0.00066, 'p_change_FF_Per_Capita': 5.95, 'Grocery_per_capita_2009': 0.000135539, 'Grocery_per_capita_2014': 0.00012296, 'p_change_in_grocery_per_capita': -9.28, 'p_change_in_Access': -20.0, 'p_Change_in_Obesity': 7.5, 'p_change_in_income': 15.03}]\n"
     ]
    }
   ],
   "source": [
    "# Data is just a list of dictionaries that represent each row of data\n",
    "print(data[:5])\n",
    "\n",
    "#data[:1]"
   ]
  },
  {
   "cell_type": "code",
   "execution_count": 149,
   "metadata": {
    "collapsed": true
   },
   "outputs": [],
   "source": [
    "# Use MetaData from SQLAlchemy to reflect the tables\n",
    "metadata = MetaData(bind=engine)\n",
    "metadata.reflect()"
   ]
  },
  {
   "cell_type": "code",
   "execution_count": 150,
   "metadata": {
    "collapsed": true
   },
   "outputs": [],
   "source": [
    "# Save the reference to the `customers` table as a variable called `food`\n",
    "table = sqlalchemy.Table('food_four', metadata, autoload=True)"
   ]
  },
  {
   "cell_type": "code",
   "execution_count": 151,
   "metadata": {},
   "outputs": [
    {
     "data": {
      "text/plain": [
       "<sqlalchemy.engine.result.ResultProxy at 0x2865ea16080>"
      ]
     },
     "execution_count": 151,
     "metadata": {},
     "output_type": "execute_result"
    }
   ],
   "source": [
    "# Use `table.delete()` to remove any pre-existing data.\n",
    "# Note that this is a convenience function so that you can re-run the example code multiple times.\n",
    "# You would not likely do this step in production.\n",
    "conn.execute(table.delete())"
   ]
  },
  {
   "cell_type": "code",
   "execution_count": 152,
   "metadata": {},
   "outputs": [
    {
     "ename": "StatementError",
     "evalue": "(builtins.ValueError) could not convert string to float: '0101000020E6100000541C075E2DEB60C09F909DB7B1874C40' [SQL: 'INSERT INTO food_three (id, the_geom, city, latitude, longitude, invalid_the_geom, storenumber, storetype, address, cartodb_id, state, zip, phone, playplace, drivethru, archcard, freewifi, storeurl, cartodb_georef_status, \"COUNTY\", \"Grocery_2009\", \"Convenience_2009\", \"Fast_Food_Restaurants_2009\", \"Adult_Diabetes_p_2009\", \"Adult_Obsesity_p_2009\", \"Median_Household_Income_2009\", \"Limited_Access_Populationp_2009\", \"Limited_Access_Population_2009\", \"Population_2009\", \"Grocery_2014\", \"Convenience_2014\", \"Fast_Food_Restaurants_2014\", \"Adult_Diabetes_2014\", \"Adult_Obesity_2014\", \"Median_Household_Income_2014\", \"Limited_Access_p_2014\", \"Limited_Access_2014\", \"Population_2014\", \"FF_per_capita_2009\", \"FF_per_capita_2014\", \"p_change_FF_Per_Capita\", \"Grocery_per_capita_2009\", \"Grocery_per_capita_2014\", p_change_in_grocery_per_capita, \"p_change_in_Access\", \"p_Change_in_Obesity\", p_change_in_income) VALUES (?, ?, ?, ?, ?, ?, ?, ?, ?, ?, ?, ?, ?, ?, ?, ?, ?, ?, ?, ?, ?, ?, ?, ?, ?, ?, ?, ?, ?, ?, ?, ?, ?, ?, ?, ?, ?, ?, ?, ?, ?, ?, ?, ?, ?, ?, ?)'] [parameters: [{'id': 1, 'the_geom': '0101000020E6100000541C075E2DEB60C09F909DB7B1874C40', 'city': 'SITKA', 'latitude': 57.060111, 'longitude': -135.349288, 'invalid_the_geom': 'Point', 'storenumber': 7972, 'storetype': 'FREESTANDING', 'address': '913 HALIBUT POINT RD', 'cartodb_id': 14168, 'state': 'AK', 'zip': 99835, 'phone': '(907)747-8709', 'playplace': False, 'drivethru': True, 'archcard': True, 'freewifi': True, 'storeurl': 'http://www.mcalaska.com/7972', 'cartodb_georef_status': True, 'COUNTY': 'Sitka', 'Grocery_2009': 4, 'Convenience_2009': 2, 'Fast_Food_Restaurants_2009': 4, 'Adult_Diabetes_p_2009': 7.0, 'Adult_Obsesity_p_2009': 29.7, 'Median_Household_Income_2009': 58000, 'Limited_Access_Populationp_2009': 18, 'Limited_Access_Population_2009': 1617, 'Population_2009': 8881, 'Grocery_2014': 4, 'Convenience_2014': 2, 'Fast_Food_Restaurants_2014': 4, 'Adult_Diabetes_2014': 6.7, 'Adult_Obesity_2014': 28.7, 'Median_Household_Income_2014': 68472, 'Limited_Access_p_2014': 18, 'Limited_Access_2014': 1632, 'Population_2014': 8883, 'FF_per_capita_2009': 0.00045039999999999994, 'FF_per_capita_2014': 0.00045, 'p_change_FF_Per_Capita': -0.02, 'Grocery_per_capita_2009': 0.00045039999999999994, 'Grocery_per_capita_2014': 0.0004503, 'p_change_in_grocery_per_capita': -0.02, 'p_change_in_Access': 0.0, 'p_Change_in_Obesity': -3.37, 'p_change_in_income': 18.06}, {'id': 2, 'the_geom': '0101000020E610000056F31C916FD260C0C8EC2C7AA72E4D40', 'city': 'JUNEAU', 'latitude': 58.364486, 'longitude': -134.576119, 'invalid_the_geom': 'Point', 'storenumber': 6123, 'storetype': 'FREESTANDING', 'address': '2285 TROUT ST', 'cartodb_id': 14169, 'state': 'AK', 'zip': 99801, 'phone': '(907)789-4653', 'playplace': True, 'drivethru': True, 'archcard': True, 'freewifi': True, 'storeurl': 'http://www.mcalaska.com/6123', 'cartodb_georef_status': True, 'COUNTY': 'Juneau', 'Grocery_2009': 7, 'Convenience_2009': 4, 'Fast_Food_Restaurants_2009': 22, 'Adult_Diabetes_p_2009': 5.5, 'Adult_Obsesity_p_2009': 26.2, 'Median_Household_Income_2009': 69844, 'Limited_Access_Populationp_2009': 32, 'Limited_Access_Population_2009': 10138, 'Population_2009': 31275, 'Grocery_2014': 6, 'Convenience_2014': 9, 'Fast_Food_Restaurants_2014': 31, 'Adult_Diabetes_2014': 5.9, 'Adult_Obesity_2014': 28.6, 'Median_Household_Income_2014': 82892, 'Limited_Access_p_2014': 32, 'Limited_Access_2014': 10063, 'Population_2014': 32511, 'FF_per_capita_2009': 0.000703437, 'FF_per_capita_2014': 0.00095, 'p_change_FF_Per_Capita': 35.55, 'Grocery_per_capita_2009': 0.000223821, 'Grocery_per_capita_2014': 0.00018455, 'p_change_in_grocery_per_capita': -17.54, 'p_change_in_Access': 0.0, 'p_Change_in_Obesity': 9.16, 'p_change_in_income': 18.68}, {'id': 3, 'the_geom': '0101000020E61000009E42AED4B3425DC0F9156BB8C8354740', 'city': 'CLARKSTON', 'latitude': 46.420188, 'longitude': -117.042226, 'invalid_the_geom': 'Point', 'storenumber': 10610, 'storetype': 'FREESTANDING', 'address': '350 BRIDGE ST', 'cartodb_id': 8632, 'state': 'WA', 'zip': 99403, 'phone': '(509)758-9603', 'playplace': True, 'drivethru': True, 'archcard': True, 'freewifi': True, 'storeurl': 'http://www.mcwashington.com/10610', 'cartodb_georef_status': True, 'COUNTY': 'Asotin', 'Grocery_2009': 5, 'Convenience_2009': 4, 'Fast_Food_Restaurants_2009': 9, 'Adult_Diabetes_p_2009': 10.8, 'Adult_Obsesity_p_2009': 29.2, 'Median_Household_Income_2009': 39340, 'Limited_Access_Populationp_2009': 19, 'Limited_Access_Population_2009': 4212, 'Population_2009': 21623, 'Grocery_2014': 5, 'Convenience_2014': 4, 'Fast_Food_Restaurants_2014': 10, 'Adult_Diabetes_2014': 12.9, 'Adult_Obesity_2014': 33.4, 'Median_Household_Income_2014': 46573, 'Limited_Access_p_2014': 19, 'Limited_Access_2014': 4079, 'Population_2014': 22177, 'FF_per_capita_2009': 0.000416223, 'FF_per_capita_2014': 0.00045, 'p_change_FF_Per_Capita': 8.34, 'Grocery_per_capita_2009': 0.000231235, 'Grocery_per_capita_2014': 0.00022546, 'p_change_in_grocery_per_capita': -2.5, 'p_change_in_Access': 0.0, 'p_Change_in_Obesity': 14.38, 'p_change_in_income': 18.39}, {'id': 4, 'the_geom': '0101000020E610000032022A1C41D25DC0B7ED7BD45F214740', 'city': 'RICHLAND', 'latitude': 46.260737, 'longitude': -119.285224, 'invalid_the_geom': 'Point', 'storenumber': 6556, 'storetype': 'FREESTANDING', 'address': '101 D WELLSIAN WAY', 'cartodb_id': 13945, 'state': 'WA', 'zip': 99352, 'phone': '(509)943-5101', 'playplace': False, 'drivethru': True, 'archcard': True, 'freewifi': True, 'storeurl': 'http://www.mcwashington.com/6556', 'cartodb_georef_status': True, 'COUNTY': 'Benton', 'Grocery_2009': 30, 'Convenience_2009': 79, 'Fast_Food_Restaurants_2009': 137, 'Adult_Diabetes_p_2009': 7.3, 'Adult_Obsesity_p_2009': 28.0, 'Median_Household_Income_2009': 52417, 'Limited_Access_Populationp_2009': 20, 'Limited_Access_Population_2009': 43591, 'Population_2009': 221339, 'Grocery_2014': 30, 'Convenience_2014': 86, 'Fast_Food_Restaurants_2014': 160, 'Adult_Diabetes_2014': 9.6, 'Adult_Obesity_2014': 30.1, 'Median_Household_Income_2014': 60294, 'Limited_Access_p_2014': 16, 'Limited_Access_2014': 34547, 'Population_2014': 243991, 'FF_per_capita_2009': 0.00061896, 'FF_per_capita_2014': 0.00066, 'p_change_FF_Per_Capita': 5.95, 'Grocery_per_capita_2009': 0.000135539, 'Grocery_per_capita_2014': 0.00012296, 'p_change_in_grocery_per_capita': -9.28, 'p_change_in_Access': -20.0, 'p_Change_in_Obesity': 7.5, 'p_change_in_income': 15.03}, {'id': 5, 'the_geom': '0101000020E6100000624B8FA67AF25DC0A48CB800341C4740', 'city': 'PROSSER', 'latitude': 46.220337, 'longitude': -119.78873600000001, 'invalid_the_geom': 'Point', 'storenumber': 11889, 'storetype': 'FREESTANDING', 'address': '103 MERLOT DR', 'cartodb_id': 13886, 'state': 'WA', 'zip': 99350, 'phone': '(509)786-7222', 'playplace': True, 'drivethru': True, 'archcard': True, 'freewifi': True, 'storeurl': 'http://www.mcwashington.com/11889', 'cartodb_georef_status': True, 'COUNTY': 'Benton', 'Grocery_2009': 30, 'Convenience_2009': 79, 'Fast_Food_Restaurants_2009': 137, 'Adult_Diabetes_p_2009': 7.3, 'Adult_Obsesity_p_2009': 28.0, 'Median_Household_Income_2009': 52417, 'Limited_Access_Populationp_2009': 20, 'Limited_Access_Population_2009': 43591, 'Population_2009': 221339, 'Grocery_2014': 30, 'Convenience_2014': 86, 'Fast_Food_Restaurants_2014': 160, 'Adult_Diabetes_2014': 9.6, 'Adult_Obesity_2014': 30.1, 'Median_Household_Income_2014': 60294, 'Limited_Access_p_2014': 16, 'Limited_Access_2014': 34547, 'Population_2014': 243991, 'FF_per_capita_2009': 0.00061896, 'FF_per_capita_2014': 0.00066, 'p_change_FF_Per_Capita': 5.95, 'Grocery_per_capita_2009': 0.000135539, 'Grocery_per_capita_2014': 0.00012296, 'p_change_in_grocery_per_capita': -9.28, 'p_change_in_Access': -20.0, 'p_Change_in_Obesity': 7.5, 'p_change_in_income': 15.03}, {'id': 6, 'the_geom': '0101000020E6100000750305DEC9CA5DC024624A24D1694740', 'city': 'OTHELLO', 'latitude': 46.826695, 'longitude': -119.168571, 'invalid_the_geom': 'Point', 'storenumber': 12247, 'storetype': 'FREESTANDING', 'address': '445 E MAIN ST', 'cartodb_id': 13950, 'state': 'WA', 'zip': 99344, 'phone': '(509)488-0721', 'playplace': False, 'drivethru': True, 'archcard': True, 'freewifi': True, 'storeurl': 'http://www.mcwashington.com/12247', 'cartodb_georef_status': True, 'COUNTY': 'Adams', 'Grocery_2009': 49, 'Convenience_2009': 114, 'Fast_Food_Restaurants_2009': 270, 'Adult_Diabetes_p_2009': 6.3, 'Adult_Obsesity_p_2009': 24.8, 'Median_Household_Income_2009': 52785, 'Limited_Access_Populationp_2009': 15, 'Limited_Access_Population_2009': 65746, 'Population_2009': 441603, 'Grocery_2014': 66, 'Convenience_2014': 122, 'Fast_Food_Restaurants_2014': 316, 'Adult_Diabetes_2014': 7.2, 'Adult_Obesity_2014': 26.3, 'Median_Household_Income_2014': 62991, 'Limited_Access_p_2014': 15, 'Limited_Access_2014': 66896, 'Population_2014': 480446, 'FF_per_capita_2009': 0.000611409, 'FF_per_capita_2014': 0.00066, 'p_change_FF_Per_Capita': 7.57, 'Grocery_per_capita_2009': 0.00011095899999999999, 'Grocery_per_capita_2014': 0.00013737, 'p_change_in_grocery_per_capita': 23.8, 'p_change_in_Access': 0.0, 'p_Change_in_Obesity': 6.05, 'p_change_in_income': 19.34}, {'id': 7, 'the_geom': '0101000020E610000024EF1CCA50CD5DC0772D211FF41C4740', 'city': 'KENNEWICK', 'latitude': 46.2262, 'longitude': -119.208056, 'invalid_the_geom': 'Point', 'storenumber': 14730, 'storetype': 'FREESTANDING', 'address': '1409 N KELLOGG ST', 'cartodb_id': 13946, 'state': 'WA', 'zip': 99336, 'phone': '(509)783-3718', 'playplace': True, 'drivethru': True, 'archcard': True, 'freewifi': True, 'storeurl': 'http://www.mcwashington.com/14730', 'cartodb_georef_status': True, 'COUNTY': 'Benton', 'Grocery_2009': 30, 'Convenience_2009': 79, 'Fast_Food_Restaurants_2009': 137, 'Adult_Diabetes_p_2009': 7.3, 'Adult_Obsesity_p_2009': 28.0, 'Median_Household_Income_2009': 52417, 'Limited_Access_Populationp_2009': 20, 'Limited_Access_Population_2009': 43591, 'Population_2009': 221339, 'Grocery_2014': 30, 'Convenience_2014': 86, 'Fast_Food_Restaurants_2014': 160, 'Adult_Diabetes_2014': 9.6, 'Adult_Obesity_2014': 30.1, 'Median_Household_Income_2014': 60294, 'Limited_Access_p_2014': 16, 'Limited_Access_2014': 34547, 'Population_2014': 243991, 'FF_per_capita_2009': 0.00061896, 'FF_per_capita_2014': 0.00066, 'p_change_FF_Per_Capita': 5.95, 'Grocery_per_capita_2009': 0.000135539, 'Grocery_per_capita_2014': 0.00012296, 'p_change_in_grocery_per_capita': -9.28, 'p_change_in_Access': -20.0, 'p_Change_in_Obesity': 7.5, 'p_change_in_income': 15.03}, {'id': 8, 'the_geom': '0101000020E61000009CF9D51C20CA5DC0F2ED5D83BE1A4740', 'city': 'KENNEWICK', 'latitude': 46.208939, 'longitude': -119.15821000000001, 'invalid_the_geom': 'Point', 'storenumber': 11485, 'storetype': 'FREESTANDING', 'address': '2721 W KENNEWICK AVE', 'cartodb_id': 13948, 'state': 'WA', 'zip': 99336, 'phone': '(509)586-9150', 'playplace': True, 'drivethru': True, 'archcard': True, 'freewifi': True, 'storeurl': 'http://www.mcwashington.com/11485', 'cartodb_georef_status': True, 'COUNTY': 'Benton', 'Grocery_2009': 30, 'Convenience_2009': 79, 'Fast_Food_Restaurants_2009': 137, 'Adult_Diabetes_p_2009': 7.3, 'Adult_Obsesity_p_2009': 28.0, 'Median_Household_Income_2009': 52417, 'Limited_Access_Populationp_2009': 20, 'Limited_Access_Population_2009': 43591, 'Population_2009': 221339, 'Grocery_2014': 30, 'Convenience_2014': 86, 'Fast_Food_Restaurants_2014': 160, 'Adult_Diabetes_2014': 9.6, 'Adult_Obesity_2014': 30.1, 'Median_Household_Income_2014': 60294, 'Limited_Access_p_2014': 16, 'Limited_Access_2014': 34547, 'Population_2014': 243991, 'FF_per_capita_2009': 0.00061896, 'FF_per_capita_2014': 0.00066, 'p_change_FF_Per_Capita': 5.95, 'Grocery_per_capita_2009': 0.000135539, 'Grocery_per_capita_2014': 0.00012296, 'p_change_in_grocery_per_capita': -9.28, 'p_change_in_Access': -20.0, 'p_Change_in_Obesity': 7.5, 'p_change_in_income': 15.03}  ... displaying 10 of 12042 total bound parameter sets ...  {'id': 12041, 'the_geom': '0101000020E6100000A7CEA3E2FF1952C09BE61DA7E8244540', 'city': 'BELCHERTOWN', 'latitude': 42.28835, 'longitude': -72.406243, 'invalid_the_geom': 'Point', 'storenumber': 12064, 'storetype': 'FREESTANDING', 'address': '148 N MAIN ST', 'cartodb_id': 60, 'state': 'MA', 'zip': 1007, 'phone': '(413)323-6498', 'playplace': False, 'drivethru': True, 'archcard': True, 'freewifi': True, 'storeurl': 'http://www.mcmassachusetts.com/12064', 'cartodb_georef_status': True, 'COUNTY': 'Hampshire', 'Grocery_2009': 32, 'Convenience_2009': 50, 'Fast_Food_Restaurants_2009': 93, 'Adult_Diabetes_p_2009': 7.0, 'Adult_Obsesity_p_2009': 22.3, 'Median_Household_Income_2009': 57558, 'Limited_Access_Populationp_2009': 33, 'Limited_Access_Population_2009': 52127, 'Population_2009': 158080, 'Grocery_2014': 37, 'Convenience_2014': 51, 'Fast_Food_Restaurants_2014': 99, 'Adult_Diabetes_2014': 6.8, 'Adult_Obesity_2014': 18.9, 'Median_Household_Income_2014': 60853, 'Limited_Access_p_2014': 39, 'Limited_Access_2014': 61107, 'Population_2014': 161043, 'FF_per_capita_2009': 0.00058831, 'FF_per_capita_2014': 0.00061, 'p_change_FF_Per_Capita': 4.49, 'Grocery_per_capita_2009': 0.000202429, 'Grocery_per_capita_2014': 0.00022975, 'p_change_in_grocery_per_capita': 13.5, 'p_change_in_Access': 18.18, 'p_Change_in_Obesity': -15.25, 'p_change_in_income': 5.72}, {'id': 12042, 'the_geom': '0101000020E6100000D44334BA832852C0D5B48B69A6074540', 'city': 'AGAWAM', 'latitude': 42.059765999999996, 'longitude': -72.63304000000001, 'invalid_the_geom': 'Point', 'storenumber': 34251, 'storetype': 'FREESTANDING', 'address': '868 SUFFIELD STREET', 'cartodb_id': 33, 'state': 'MA', 'zip': 1001, 'phone': '(413)786-6863', 'playplace': False, 'drivethru': True, 'archcard': True, 'freewifi': True, 'storeurl': 'http://www.mcmassachusetts.com/34251', 'cartodb_georef_status': True, 'COUNTY': 'Hampden', 'Grocery_2009': 95, 'Convenience_2009': 198, 'Fast_Food_Restaurants_2009': 260, 'Adult_Diabetes_p_2009': 10.3, 'Adult_Obsesity_p_2009': 28.5, 'Median_Household_Income_2009': 46356, 'Limited_Access_Populationp_2009': 26, 'Limited_Access_Population_2009': 120696, 'Population_2009': 463490, 'Grocery_2014': 98, 'Convenience_2014': 238, 'Fast_Food_Restaurants_2014': 293, 'Adult_Diabetes_2014': 11.1, 'Adult_Obesity_2014': 27.5, 'Median_Household_Income_2014': 51415, 'Limited_Access_p_2014': 22, 'Limited_Access_2014': 103309, 'Population_2014': 469033, 'FF_per_capita_2009': 0.000560961, 'FF_per_capita_2014': 0.00062, 'p_change_FF_Per_Capita': 11.36, 'Grocery_per_capita_2009': 0.00020496700000000002, 'Grocery_per_capita_2014': 0.00020894, 'p_change_in_grocery_per_capita': 1.94, 'p_change_in_Access': -15.38, 'p_Change_in_Obesity': -3.51, 'p_change_in_income': 10.91}]]",
     "output_type": "error",
     "traceback": [
      "\u001b[1;31m---------------------------------------------------------------------------\u001b[0m",
      "\u001b[1;31mValueError\u001b[0m                                Traceback (most recent call last)",
      "\u001b[1;32m~\\Anaconda3\\lib\\site-packages\\sqlalchemy\\engine\\base.py\u001b[0m in \u001b[0;36m_execute_context\u001b[1;34m(self, dialect, constructor, statement, parameters, *args)\u001b[0m\n\u001b[0;32m   1126\u001b[0m \u001b[1;33m\u001b[0m\u001b[0m\n\u001b[1;32m-> 1127\u001b[1;33m             \u001b[0mcontext\u001b[0m \u001b[1;33m=\u001b[0m \u001b[0mconstructor\u001b[0m\u001b[1;33m(\u001b[0m\u001b[0mdialect\u001b[0m\u001b[1;33m,\u001b[0m \u001b[0mself\u001b[0m\u001b[1;33m,\u001b[0m \u001b[0mconn\u001b[0m\u001b[1;33m,\u001b[0m \u001b[1;33m*\u001b[0m\u001b[0margs\u001b[0m\u001b[1;33m)\u001b[0m\u001b[1;33m\u001b[0m\u001b[0m\n\u001b[0m\u001b[0;32m   1128\u001b[0m         \u001b[1;32mexcept\u001b[0m \u001b[0mBaseException\u001b[0m \u001b[1;32mas\u001b[0m \u001b[0me\u001b[0m\u001b[1;33m:\u001b[0m\u001b[1;33m\u001b[0m\u001b[0m\n",
      "\u001b[1;32m~\\Anaconda3\\lib\\site-packages\\sqlalchemy\\engine\\default.py\u001b[0m in \u001b[0;36m_init_compiled\u001b[1;34m(cls, dialect, connection, dbapi_connection, compiled, parameters)\u001b[0m\n\u001b[0;32m    666\u001b[0m                     \u001b[1;32mif\u001b[0m \u001b[0mkey\u001b[0m \u001b[1;32min\u001b[0m \u001b[0mprocessors\u001b[0m\u001b[1;33m:\u001b[0m\u001b[1;33m\u001b[0m\u001b[0m\n\u001b[1;32m--> 667\u001b[1;33m                         \u001b[0mparam\u001b[0m\u001b[1;33m.\u001b[0m\u001b[0mappend\u001b[0m\u001b[1;33m(\u001b[0m\u001b[0mprocessors\u001b[0m\u001b[1;33m[\u001b[0m\u001b[0mkey\u001b[0m\u001b[1;33m]\u001b[0m\u001b[1;33m(\u001b[0m\u001b[0mcompiled_params\u001b[0m\u001b[1;33m[\u001b[0m\u001b[0mkey\u001b[0m\u001b[1;33m]\u001b[0m\u001b[1;33m)\u001b[0m\u001b[1;33m)\u001b[0m\u001b[1;33m\u001b[0m\u001b[0m\n\u001b[0m\u001b[0;32m    668\u001b[0m                     \u001b[1;32melse\u001b[0m\u001b[1;33m:\u001b[0m\u001b[1;33m\u001b[0m\u001b[0m\n",
      "\u001b[1;31mValueError\u001b[0m: could not convert string to float: '0101000020E6100000541C075E2DEB60C09F909DB7B1874C40'",
      "\nThe above exception was the direct cause of the following exception:\n",
      "\u001b[1;31mStatementError\u001b[0m                            Traceback (most recent call last)",
      "\u001b[1;32m<ipython-input-152-43cc373251c5>\u001b[0m in \u001b[0;36m<module>\u001b[1;34m()\u001b[0m\n\u001b[0;32m      1\u001b[0m \u001b[1;31m# Use `table.insert()` to insert the data into the table\u001b[0m\u001b[1;33m\u001b[0m\u001b[1;33m\u001b[0m\u001b[0m\n\u001b[0;32m      2\u001b[0m \u001b[1;31m# The SQL table is populated during this step\u001b[0m\u001b[1;33m\u001b[0m\u001b[1;33m\u001b[0m\u001b[0m\n\u001b[1;32m----> 3\u001b[1;33m \u001b[0mconn\u001b[0m\u001b[1;33m.\u001b[0m\u001b[0mexecute\u001b[0m\u001b[1;33m(\u001b[0m\u001b[0mtable\u001b[0m\u001b[1;33m.\u001b[0m\u001b[0minsert\u001b[0m\u001b[1;33m(\u001b[0m\u001b[1;33m)\u001b[0m\u001b[1;33m,\u001b[0m \u001b[0mdata\u001b[0m\u001b[1;33m)\u001b[0m\u001b[1;33m\u001b[0m\u001b[0m\n\u001b[0m",
      "\u001b[1;32m~\\Anaconda3\\lib\\site-packages\\sqlalchemy\\engine\\base.py\u001b[0m in \u001b[0;36mexecute\u001b[1;34m(self, object, *multiparams, **params)\u001b[0m\n\u001b[0;32m    946\u001b[0m             \u001b[1;32mraise\u001b[0m \u001b[0mexc\u001b[0m\u001b[1;33m.\u001b[0m\u001b[0mObjectNotExecutableError\u001b[0m\u001b[1;33m(\u001b[0m\u001b[0mobject\u001b[0m\u001b[1;33m)\u001b[0m\u001b[1;33m\u001b[0m\u001b[0m\n\u001b[0;32m    947\u001b[0m         \u001b[1;32melse\u001b[0m\u001b[1;33m:\u001b[0m\u001b[1;33m\u001b[0m\u001b[0m\n\u001b[1;32m--> 948\u001b[1;33m             \u001b[1;32mreturn\u001b[0m \u001b[0mmeth\u001b[0m\u001b[1;33m(\u001b[0m\u001b[0mself\u001b[0m\u001b[1;33m,\u001b[0m \u001b[0mmultiparams\u001b[0m\u001b[1;33m,\u001b[0m \u001b[0mparams\u001b[0m\u001b[1;33m)\u001b[0m\u001b[1;33m\u001b[0m\u001b[0m\n\u001b[0m\u001b[0;32m    949\u001b[0m \u001b[1;33m\u001b[0m\u001b[0m\n\u001b[0;32m    950\u001b[0m     \u001b[1;32mdef\u001b[0m \u001b[0m_execute_function\u001b[0m\u001b[1;33m(\u001b[0m\u001b[0mself\u001b[0m\u001b[1;33m,\u001b[0m \u001b[0mfunc\u001b[0m\u001b[1;33m,\u001b[0m \u001b[0mmultiparams\u001b[0m\u001b[1;33m,\u001b[0m \u001b[0mparams\u001b[0m\u001b[1;33m)\u001b[0m\u001b[1;33m:\u001b[0m\u001b[1;33m\u001b[0m\u001b[0m\n",
      "\u001b[1;32m~\\Anaconda3\\lib\\site-packages\\sqlalchemy\\sql\\elements.py\u001b[0m in \u001b[0;36m_execute_on_connection\u001b[1;34m(self, connection, multiparams, params)\u001b[0m\n\u001b[0;32m    267\u001b[0m     \u001b[1;32mdef\u001b[0m \u001b[0m_execute_on_connection\u001b[0m\u001b[1;33m(\u001b[0m\u001b[0mself\u001b[0m\u001b[1;33m,\u001b[0m \u001b[0mconnection\u001b[0m\u001b[1;33m,\u001b[0m \u001b[0mmultiparams\u001b[0m\u001b[1;33m,\u001b[0m \u001b[0mparams\u001b[0m\u001b[1;33m)\u001b[0m\u001b[1;33m:\u001b[0m\u001b[1;33m\u001b[0m\u001b[0m\n\u001b[0;32m    268\u001b[0m         \u001b[1;32mif\u001b[0m \u001b[0mself\u001b[0m\u001b[1;33m.\u001b[0m\u001b[0msupports_execution\u001b[0m\u001b[1;33m:\u001b[0m\u001b[1;33m\u001b[0m\u001b[0m\n\u001b[1;32m--> 269\u001b[1;33m             \u001b[1;32mreturn\u001b[0m \u001b[0mconnection\u001b[0m\u001b[1;33m.\u001b[0m\u001b[0m_execute_clauseelement\u001b[0m\u001b[1;33m(\u001b[0m\u001b[0mself\u001b[0m\u001b[1;33m,\u001b[0m \u001b[0mmultiparams\u001b[0m\u001b[1;33m,\u001b[0m \u001b[0mparams\u001b[0m\u001b[1;33m)\u001b[0m\u001b[1;33m\u001b[0m\u001b[0m\n\u001b[0m\u001b[0;32m    270\u001b[0m         \u001b[1;32melse\u001b[0m\u001b[1;33m:\u001b[0m\u001b[1;33m\u001b[0m\u001b[0m\n\u001b[0;32m    271\u001b[0m             \u001b[1;32mraise\u001b[0m \u001b[0mexc\u001b[0m\u001b[1;33m.\u001b[0m\u001b[0mObjectNotExecutableError\u001b[0m\u001b[1;33m(\u001b[0m\u001b[0mself\u001b[0m\u001b[1;33m)\u001b[0m\u001b[1;33m\u001b[0m\u001b[0m\n",
      "\u001b[1;32m~\\Anaconda3\\lib\\site-packages\\sqlalchemy\\engine\\base.py\u001b[0m in \u001b[0;36m_execute_clauseelement\u001b[1;34m(self, elem, multiparams, params)\u001b[0m\n\u001b[0;32m   1058\u001b[0m             \u001b[0mcompiled_sql\u001b[0m\u001b[1;33m,\u001b[0m\u001b[1;33m\u001b[0m\u001b[0m\n\u001b[0;32m   1059\u001b[0m             \u001b[0mdistilled_params\u001b[0m\u001b[1;33m,\u001b[0m\u001b[1;33m\u001b[0m\u001b[0m\n\u001b[1;32m-> 1060\u001b[1;33m             \u001b[0mcompiled_sql\u001b[0m\u001b[1;33m,\u001b[0m \u001b[0mdistilled_params\u001b[0m\u001b[1;33m\u001b[0m\u001b[0m\n\u001b[0m\u001b[0;32m   1061\u001b[0m         )\n\u001b[0;32m   1062\u001b[0m         \u001b[1;32mif\u001b[0m \u001b[0mself\u001b[0m\u001b[1;33m.\u001b[0m\u001b[0m_has_events\u001b[0m \u001b[1;32mor\u001b[0m \u001b[0mself\u001b[0m\u001b[1;33m.\u001b[0m\u001b[0mengine\u001b[0m\u001b[1;33m.\u001b[0m\u001b[0m_has_events\u001b[0m\u001b[1;33m:\u001b[0m\u001b[1;33m\u001b[0m\u001b[0m\n",
      "\u001b[1;32m~\\Anaconda3\\lib\\site-packages\\sqlalchemy\\engine\\base.py\u001b[0m in \u001b[0;36m_execute_context\u001b[1;34m(self, dialect, constructor, statement, parameters, *args)\u001b[0m\n\u001b[0;32m   1130\u001b[0m                 \u001b[0me\u001b[0m\u001b[1;33m,\u001b[0m\u001b[1;33m\u001b[0m\u001b[0m\n\u001b[0;32m   1131\u001b[0m                 \u001b[0mutil\u001b[0m\u001b[1;33m.\u001b[0m\u001b[0mtext_type\u001b[0m\u001b[1;33m(\u001b[0m\u001b[0mstatement\u001b[0m\u001b[1;33m)\u001b[0m\u001b[1;33m,\u001b[0m \u001b[0mparameters\u001b[0m\u001b[1;33m,\u001b[0m\u001b[1;33m\u001b[0m\u001b[0m\n\u001b[1;32m-> 1132\u001b[1;33m                 None, None)\n\u001b[0m\u001b[0;32m   1133\u001b[0m \u001b[1;33m\u001b[0m\u001b[0m\n\u001b[0;32m   1134\u001b[0m         \u001b[1;32mif\u001b[0m \u001b[0mcontext\u001b[0m\u001b[1;33m.\u001b[0m\u001b[0mcompiled\u001b[0m\u001b[1;33m:\u001b[0m\u001b[1;33m\u001b[0m\u001b[0m\n",
      "\u001b[1;32m~\\Anaconda3\\lib\\site-packages\\sqlalchemy\\engine\\base.py\u001b[0m in \u001b[0;36m_handle_dbapi_exception\u001b[1;34m(self, e, statement, parameters, cursor, context)\u001b[0m\n\u001b[0;32m   1411\u001b[0m                 util.raise_from_cause(\n\u001b[0;32m   1412\u001b[0m                     \u001b[0msqlalchemy_exception\u001b[0m\u001b[1;33m,\u001b[0m\u001b[1;33m\u001b[0m\u001b[0m\n\u001b[1;32m-> 1413\u001b[1;33m                     \u001b[0mexc_info\u001b[0m\u001b[1;33m\u001b[0m\u001b[0m\n\u001b[0m\u001b[0;32m   1414\u001b[0m                 )\n\u001b[0;32m   1415\u001b[0m             \u001b[1;32melse\u001b[0m\u001b[1;33m:\u001b[0m\u001b[1;33m\u001b[0m\u001b[0m\n",
      "\u001b[1;32m~\\Anaconda3\\lib\\site-packages\\sqlalchemy\\util\\compat.py\u001b[0m in \u001b[0;36mraise_from_cause\u001b[1;34m(exception, exc_info)\u001b[0m\n\u001b[0;32m    201\u001b[0m     \u001b[0mexc_type\u001b[0m\u001b[1;33m,\u001b[0m \u001b[0mexc_value\u001b[0m\u001b[1;33m,\u001b[0m \u001b[0mexc_tb\u001b[0m \u001b[1;33m=\u001b[0m \u001b[0mexc_info\u001b[0m\u001b[1;33m\u001b[0m\u001b[0m\n\u001b[0;32m    202\u001b[0m     \u001b[0mcause\u001b[0m \u001b[1;33m=\u001b[0m \u001b[0mexc_value\u001b[0m \u001b[1;32mif\u001b[0m \u001b[0mexc_value\u001b[0m \u001b[1;32mis\u001b[0m \u001b[1;32mnot\u001b[0m \u001b[0mexception\u001b[0m \u001b[1;32melse\u001b[0m \u001b[1;32mNone\u001b[0m\u001b[1;33m\u001b[0m\u001b[0m\n\u001b[1;32m--> 203\u001b[1;33m     \u001b[0mreraise\u001b[0m\u001b[1;33m(\u001b[0m\u001b[0mtype\u001b[0m\u001b[1;33m(\u001b[0m\u001b[0mexception\u001b[0m\u001b[1;33m)\u001b[0m\u001b[1;33m,\u001b[0m \u001b[0mexception\u001b[0m\u001b[1;33m,\u001b[0m \u001b[0mtb\u001b[0m\u001b[1;33m=\u001b[0m\u001b[0mexc_tb\u001b[0m\u001b[1;33m,\u001b[0m \u001b[0mcause\u001b[0m\u001b[1;33m=\u001b[0m\u001b[0mcause\u001b[0m\u001b[1;33m)\u001b[0m\u001b[1;33m\u001b[0m\u001b[0m\n\u001b[0m\u001b[0;32m    204\u001b[0m \u001b[1;33m\u001b[0m\u001b[0m\n\u001b[0;32m    205\u001b[0m \u001b[1;32mif\u001b[0m \u001b[0mpy3k\u001b[0m\u001b[1;33m:\u001b[0m\u001b[1;33m\u001b[0m\u001b[0m\n",
      "\u001b[1;32m~\\Anaconda3\\lib\\site-packages\\sqlalchemy\\util\\compat.py\u001b[0m in \u001b[0;36mreraise\u001b[1;34m(tp, value, tb, cause)\u001b[0m\n\u001b[0;32m    184\u001b[0m             \u001b[0mvalue\u001b[0m\u001b[1;33m.\u001b[0m\u001b[0m__cause__\u001b[0m \u001b[1;33m=\u001b[0m \u001b[0mcause\u001b[0m\u001b[1;33m\u001b[0m\u001b[0m\n\u001b[0;32m    185\u001b[0m         \u001b[1;32mif\u001b[0m \u001b[0mvalue\u001b[0m\u001b[1;33m.\u001b[0m\u001b[0m__traceback__\u001b[0m \u001b[1;32mis\u001b[0m \u001b[1;32mnot\u001b[0m \u001b[0mtb\u001b[0m\u001b[1;33m:\u001b[0m\u001b[1;33m\u001b[0m\u001b[0m\n\u001b[1;32m--> 186\u001b[1;33m             \u001b[1;32mraise\u001b[0m \u001b[0mvalue\u001b[0m\u001b[1;33m.\u001b[0m\u001b[0mwith_traceback\u001b[0m\u001b[1;33m(\u001b[0m\u001b[0mtb\u001b[0m\u001b[1;33m)\u001b[0m\u001b[1;33m\u001b[0m\u001b[0m\n\u001b[0m\u001b[0;32m    187\u001b[0m         \u001b[1;32mraise\u001b[0m \u001b[0mvalue\u001b[0m\u001b[1;33m\u001b[0m\u001b[0m\n\u001b[0;32m    188\u001b[0m \u001b[1;33m\u001b[0m\u001b[0m\n",
      "\u001b[1;32m~\\Anaconda3\\lib\\site-packages\\sqlalchemy\\engine\\base.py\u001b[0m in \u001b[0;36m_execute_context\u001b[1;34m(self, dialect, constructor, statement, parameters, *args)\u001b[0m\n\u001b[0;32m   1125\u001b[0m                 \u001b[0mconn\u001b[0m \u001b[1;33m=\u001b[0m \u001b[0mself\u001b[0m\u001b[1;33m.\u001b[0m\u001b[0m_revalidate_connection\u001b[0m\u001b[1;33m(\u001b[0m\u001b[1;33m)\u001b[0m\u001b[1;33m\u001b[0m\u001b[0m\n\u001b[0;32m   1126\u001b[0m \u001b[1;33m\u001b[0m\u001b[0m\n\u001b[1;32m-> 1127\u001b[1;33m             \u001b[0mcontext\u001b[0m \u001b[1;33m=\u001b[0m \u001b[0mconstructor\u001b[0m\u001b[1;33m(\u001b[0m\u001b[0mdialect\u001b[0m\u001b[1;33m,\u001b[0m \u001b[0mself\u001b[0m\u001b[1;33m,\u001b[0m \u001b[0mconn\u001b[0m\u001b[1;33m,\u001b[0m \u001b[1;33m*\u001b[0m\u001b[0margs\u001b[0m\u001b[1;33m)\u001b[0m\u001b[1;33m\u001b[0m\u001b[0m\n\u001b[0m\u001b[0;32m   1128\u001b[0m         \u001b[1;32mexcept\u001b[0m \u001b[0mBaseException\u001b[0m \u001b[1;32mas\u001b[0m \u001b[0me\u001b[0m\u001b[1;33m:\u001b[0m\u001b[1;33m\u001b[0m\u001b[0m\n\u001b[0;32m   1129\u001b[0m             self._handle_dbapi_exception(\n",
      "\u001b[1;32m~\\Anaconda3\\lib\\site-packages\\sqlalchemy\\engine\\default.py\u001b[0m in \u001b[0;36m_init_compiled\u001b[1;34m(cls, dialect, connection, dbapi_connection, compiled, parameters)\u001b[0m\n\u001b[0;32m    665\u001b[0m                 \u001b[1;32mfor\u001b[0m \u001b[0mkey\u001b[0m \u001b[1;32min\u001b[0m \u001b[0mpositiontup\u001b[0m\u001b[1;33m:\u001b[0m\u001b[1;33m\u001b[0m\u001b[0m\n\u001b[0;32m    666\u001b[0m                     \u001b[1;32mif\u001b[0m \u001b[0mkey\u001b[0m \u001b[1;32min\u001b[0m \u001b[0mprocessors\u001b[0m\u001b[1;33m:\u001b[0m\u001b[1;33m\u001b[0m\u001b[0m\n\u001b[1;32m--> 667\u001b[1;33m                         \u001b[0mparam\u001b[0m\u001b[1;33m.\u001b[0m\u001b[0mappend\u001b[0m\u001b[1;33m(\u001b[0m\u001b[0mprocessors\u001b[0m\u001b[1;33m[\u001b[0m\u001b[0mkey\u001b[0m\u001b[1;33m]\u001b[0m\u001b[1;33m(\u001b[0m\u001b[0mcompiled_params\u001b[0m\u001b[1;33m[\u001b[0m\u001b[0mkey\u001b[0m\u001b[1;33m]\u001b[0m\u001b[1;33m)\u001b[0m\u001b[1;33m)\u001b[0m\u001b[1;33m\u001b[0m\u001b[0m\n\u001b[0m\u001b[0;32m    668\u001b[0m                     \u001b[1;32melse\u001b[0m\u001b[1;33m:\u001b[0m\u001b[1;33m\u001b[0m\u001b[0m\n\u001b[0;32m    669\u001b[0m                         \u001b[0mparam\u001b[0m\u001b[1;33m.\u001b[0m\u001b[0mappend\u001b[0m\u001b[1;33m(\u001b[0m\u001b[0mcompiled_params\u001b[0m\u001b[1;33m[\u001b[0m\u001b[0mkey\u001b[0m\u001b[1;33m]\u001b[0m\u001b[1;33m)\u001b[0m\u001b[1;33m\u001b[0m\u001b[0m\n",
      "\u001b[1;31mStatementError\u001b[0m: (builtins.ValueError) could not convert string to float: '0101000020E6100000541C075E2DEB60C09F909DB7B1874C40' [SQL: 'INSERT INTO food_three (id, the_geom, city, latitude, longitude, invalid_the_geom, storenumber, storetype, address, cartodb_id, state, zip, phone, playplace, drivethru, archcard, freewifi, storeurl, cartodb_georef_status, \"COUNTY\", \"Grocery_2009\", \"Convenience_2009\", \"Fast_Food_Restaurants_2009\", \"Adult_Diabetes_p_2009\", \"Adult_Obsesity_p_2009\", \"Median_Household_Income_2009\", \"Limited_Access_Populationp_2009\", \"Limited_Access_Population_2009\", \"Population_2009\", \"Grocery_2014\", \"Convenience_2014\", \"Fast_Food_Restaurants_2014\", \"Adult_Diabetes_2014\", \"Adult_Obesity_2014\", \"Median_Household_Income_2014\", \"Limited_Access_p_2014\", \"Limited_Access_2014\", \"Population_2014\", \"FF_per_capita_2009\", \"FF_per_capita_2014\", \"p_change_FF_Per_Capita\", \"Grocery_per_capita_2009\", \"Grocery_per_capita_2014\", p_change_in_grocery_per_capita, \"p_change_in_Access\", \"p_Change_in_Obesity\", p_change_in_income) VALUES (?, ?, ?, ?, ?, ?, ?, ?, ?, ?, ?, ?, ?, ?, ?, ?, ?, ?, ?, ?, ?, ?, ?, ?, ?, ?, ?, ?, ?, ?, ?, ?, ?, ?, ?, ?, ?, ?, ?, ?, ?, ?, ?, ?, ?, ?, ?)'] [parameters: [{'id': 1, 'the_geom': '0101000020E6100000541C075E2DEB60C09F909DB7B1874C40', 'city': 'SITKA', 'latitude': 57.060111, 'longitude': -135.349288, 'invalid_the_geom': 'Point', 'storenumber': 7972, 'storetype': 'FREESTANDING', 'address': '913 HALIBUT POINT RD', 'cartodb_id': 14168, 'state': 'AK', 'zip': 99835, 'phone': '(907)747-8709', 'playplace': False, 'drivethru': True, 'archcard': True, 'freewifi': True, 'storeurl': 'http://www.mcalaska.com/7972', 'cartodb_georef_status': True, 'COUNTY': 'Sitka', 'Grocery_2009': 4, 'Convenience_2009': 2, 'Fast_Food_Restaurants_2009': 4, 'Adult_Diabetes_p_2009': 7.0, 'Adult_Obsesity_p_2009': 29.7, 'Median_Household_Income_2009': 58000, 'Limited_Access_Populationp_2009': 18, 'Limited_Access_Population_2009': 1617, 'Population_2009': 8881, 'Grocery_2014': 4, 'Convenience_2014': 2, 'Fast_Food_Restaurants_2014': 4, 'Adult_Diabetes_2014': 6.7, 'Adult_Obesity_2014': 28.7, 'Median_Household_Income_2014': 68472, 'Limited_Access_p_2014': 18, 'Limited_Access_2014': 1632, 'Population_2014': 8883, 'FF_per_capita_2009': 0.00045039999999999994, 'FF_per_capita_2014': 0.00045, 'p_change_FF_Per_Capita': -0.02, 'Grocery_per_capita_2009': 0.00045039999999999994, 'Grocery_per_capita_2014': 0.0004503, 'p_change_in_grocery_per_capita': -0.02, 'p_change_in_Access': 0.0, 'p_Change_in_Obesity': -3.37, 'p_change_in_income': 18.06}, {'id': 2, 'the_geom': '0101000020E610000056F31C916FD260C0C8EC2C7AA72E4D40', 'city': 'JUNEAU', 'latitude': 58.364486, 'longitude': -134.576119, 'invalid_the_geom': 'Point', 'storenumber': 6123, 'storetype': 'FREESTANDING', 'address': '2285 TROUT ST', 'cartodb_id': 14169, 'state': 'AK', 'zip': 99801, 'phone': '(907)789-4653', 'playplace': True, 'drivethru': True, 'archcard': True, 'freewifi': True, 'storeurl': 'http://www.mcalaska.com/6123', 'cartodb_georef_status': True, 'COUNTY': 'Juneau', 'Grocery_2009': 7, 'Convenience_2009': 4, 'Fast_Food_Restaurants_2009': 22, 'Adult_Diabetes_p_2009': 5.5, 'Adult_Obsesity_p_2009': 26.2, 'Median_Household_Income_2009': 69844, 'Limited_Access_Populationp_2009': 32, 'Limited_Access_Population_2009': 10138, 'Population_2009': 31275, 'Grocery_2014': 6, 'Convenience_2014': 9, 'Fast_Food_Restaurants_2014': 31, 'Adult_Diabetes_2014': 5.9, 'Adult_Obesity_2014': 28.6, 'Median_Household_Income_2014': 82892, 'Limited_Access_p_2014': 32, 'Limited_Access_2014': 10063, 'Population_2014': 32511, 'FF_per_capita_2009': 0.000703437, 'FF_per_capita_2014': 0.00095, 'p_change_FF_Per_Capita': 35.55, 'Grocery_per_capita_2009': 0.000223821, 'Grocery_per_capita_2014': 0.00018455, 'p_change_in_grocery_per_capita': -17.54, 'p_change_in_Access': 0.0, 'p_Change_in_Obesity': 9.16, 'p_change_in_income': 18.68}, {'id': 3, 'the_geom': '0101000020E61000009E42AED4B3425DC0F9156BB8C8354740', 'city': 'CLARKSTON', 'latitude': 46.420188, 'longitude': -117.042226, 'invalid_the_geom': 'Point', 'storenumber': 10610, 'storetype': 'FREESTANDING', 'address': '350 BRIDGE ST', 'cartodb_id': 8632, 'state': 'WA', 'zip': 99403, 'phone': '(509)758-9603', 'playplace': True, 'drivethru': True, 'archcard': True, 'freewifi': True, 'storeurl': 'http://www.mcwashington.com/10610', 'cartodb_georef_status': True, 'COUNTY': 'Asotin', 'Grocery_2009': 5, 'Convenience_2009': 4, 'Fast_Food_Restaurants_2009': 9, 'Adult_Diabetes_p_2009': 10.8, 'Adult_Obsesity_p_2009': 29.2, 'Median_Household_Income_2009': 39340, 'Limited_Access_Populationp_2009': 19, 'Limited_Access_Population_2009': 4212, 'Population_2009': 21623, 'Grocery_2014': 5, 'Convenience_2014': 4, 'Fast_Food_Restaurants_2014': 10, 'Adult_Diabetes_2014': 12.9, 'Adult_Obesity_2014': 33.4, 'Median_Household_Income_2014': 46573, 'Limited_Access_p_2014': 19, 'Limited_Access_2014': 4079, 'Population_2014': 22177, 'FF_per_capita_2009': 0.000416223, 'FF_per_capita_2014': 0.00045, 'p_change_FF_Per_Capita': 8.34, 'Grocery_per_capita_2009': 0.000231235, 'Grocery_per_capita_2014': 0.00022546, 'p_change_in_grocery_per_capita': -2.5, 'p_change_in_Access': 0.0, 'p_Change_in_Obesity': 14.38, 'p_change_in_income': 18.39}, {'id': 4, 'the_geom': '0101000020E610000032022A1C41D25DC0B7ED7BD45F214740', 'city': 'RICHLAND', 'latitude': 46.260737, 'longitude': -119.285224, 'invalid_the_geom': 'Point', 'storenumber': 6556, 'storetype': 'FREESTANDING', 'address': '101 D WELLSIAN WAY', 'cartodb_id': 13945, 'state': 'WA', 'zip': 99352, 'phone': '(509)943-5101', 'playplace': False, 'drivethru': True, 'archcard': True, 'freewifi': True, 'storeurl': 'http://www.mcwashington.com/6556', 'cartodb_georef_status': True, 'COUNTY': 'Benton', 'Grocery_2009': 30, 'Convenience_2009': 79, 'Fast_Food_Restaurants_2009': 137, 'Adult_Diabetes_p_2009': 7.3, 'Adult_Obsesity_p_2009': 28.0, 'Median_Household_Income_2009': 52417, 'Limited_Access_Populationp_2009': 20, 'Limited_Access_Population_2009': 43591, 'Population_2009': 221339, 'Grocery_2014': 30, 'Convenience_2014': 86, 'Fast_Food_Restaurants_2014': 160, 'Adult_Diabetes_2014': 9.6, 'Adult_Obesity_2014': 30.1, 'Median_Household_Income_2014': 60294, 'Limited_Access_p_2014': 16, 'Limited_Access_2014': 34547, 'Population_2014': 243991, 'FF_per_capita_2009': 0.00061896, 'FF_per_capita_2014': 0.00066, 'p_change_FF_Per_Capita': 5.95, 'Grocery_per_capita_2009': 0.000135539, 'Grocery_per_capita_2014': 0.00012296, 'p_change_in_grocery_per_capita': -9.28, 'p_change_in_Access': -20.0, 'p_Change_in_Obesity': 7.5, 'p_change_in_income': 15.03}, {'id': 5, 'the_geom': '0101000020E6100000624B8FA67AF25DC0A48CB800341C4740', 'city': 'PROSSER', 'latitude': 46.220337, 'longitude': -119.78873600000001, 'invalid_the_geom': 'Point', 'storenumber': 11889, 'storetype': 'FREESTANDING', 'address': '103 MERLOT DR', 'cartodb_id': 13886, 'state': 'WA', 'zip': 99350, 'phone': '(509)786-7222', 'playplace': True, 'drivethru': True, 'archcard': True, 'freewifi': True, 'storeurl': 'http://www.mcwashington.com/11889', 'cartodb_georef_status': True, 'COUNTY': 'Benton', 'Grocery_2009': 30, 'Convenience_2009': 79, 'Fast_Food_Restaurants_2009': 137, 'Adult_Diabetes_p_2009': 7.3, 'Adult_Obsesity_p_2009': 28.0, 'Median_Household_Income_2009': 52417, 'Limited_Access_Populationp_2009': 20, 'Limited_Access_Population_2009': 43591, 'Population_2009': 221339, 'Grocery_2014': 30, 'Convenience_2014': 86, 'Fast_Food_Restaurants_2014': 160, 'Adult_Diabetes_2014': 9.6, 'Adult_Obesity_2014': 30.1, 'Median_Household_Income_2014': 60294, 'Limited_Access_p_2014': 16, 'Limited_Access_2014': 34547, 'Population_2014': 243991, 'FF_per_capita_2009': 0.00061896, 'FF_per_capita_2014': 0.00066, 'p_change_FF_Per_Capita': 5.95, 'Grocery_per_capita_2009': 0.000135539, 'Grocery_per_capita_2014': 0.00012296, 'p_change_in_grocery_per_capita': -9.28, 'p_change_in_Access': -20.0, 'p_Change_in_Obesity': 7.5, 'p_change_in_income': 15.03}, {'id': 6, 'the_geom': '0101000020E6100000750305DEC9CA5DC024624A24D1694740', 'city': 'OTHELLO', 'latitude': 46.826695, 'longitude': -119.168571, 'invalid_the_geom': 'Point', 'storenumber': 12247, 'storetype': 'FREESTANDING', 'address': '445 E MAIN ST', 'cartodb_id': 13950, 'state': 'WA', 'zip': 99344, 'phone': '(509)488-0721', 'playplace': False, 'drivethru': True, 'archcard': True, 'freewifi': True, 'storeurl': 'http://www.mcwashington.com/12247', 'cartodb_georef_status': True, 'COUNTY': 'Adams', 'Grocery_2009': 49, 'Convenience_2009': 114, 'Fast_Food_Restaurants_2009': 270, 'Adult_Diabetes_p_2009': 6.3, 'Adult_Obsesity_p_2009': 24.8, 'Median_Household_Income_2009': 52785, 'Limited_Access_Populationp_2009': 15, 'Limited_Access_Population_2009': 65746, 'Population_2009': 441603, 'Grocery_2014': 66, 'Convenience_2014': 122, 'Fast_Food_Restaurants_2014': 316, 'Adult_Diabetes_2014': 7.2, 'Adult_Obesity_2014': 26.3, 'Median_Household_Income_2014': 62991, 'Limited_Access_p_2014': 15, 'Limited_Access_2014': 66896, 'Population_2014': 480446, 'FF_per_capita_2009': 0.000611409, 'FF_per_capita_2014': 0.00066, 'p_change_FF_Per_Capita': 7.57, 'Grocery_per_capita_2009': 0.00011095899999999999, 'Grocery_per_capita_2014': 0.00013737, 'p_change_in_grocery_per_capita': 23.8, 'p_change_in_Access': 0.0, 'p_Change_in_Obesity': 6.05, 'p_change_in_income': 19.34}, {'id': 7, 'the_geom': '0101000020E610000024EF1CCA50CD5DC0772D211FF41C4740', 'city': 'KENNEWICK', 'latitude': 46.2262, 'longitude': -119.208056, 'invalid_the_geom': 'Point', 'storenumber': 14730, 'storetype': 'FREESTANDING', 'address': '1409 N KELLOGG ST', 'cartodb_id': 13946, 'state': 'WA', 'zip': 99336, 'phone': '(509)783-3718', 'playplace': True, 'drivethru': True, 'archcard': True, 'freewifi': True, 'storeurl': 'http://www.mcwashington.com/14730', 'cartodb_georef_status': True, 'COUNTY': 'Benton', 'Grocery_2009': 30, 'Convenience_2009': 79, 'Fast_Food_Restaurants_2009': 137, 'Adult_Diabetes_p_2009': 7.3, 'Adult_Obsesity_p_2009': 28.0, 'Median_Household_Income_2009': 52417, 'Limited_Access_Populationp_2009': 20, 'Limited_Access_Population_2009': 43591, 'Population_2009': 221339, 'Grocery_2014': 30, 'Convenience_2014': 86, 'Fast_Food_Restaurants_2014': 160, 'Adult_Diabetes_2014': 9.6, 'Adult_Obesity_2014': 30.1, 'Median_Household_Income_2014': 60294, 'Limited_Access_p_2014': 16, 'Limited_Access_2014': 34547, 'Population_2014': 243991, 'FF_per_capita_2009': 0.00061896, 'FF_per_capita_2014': 0.00066, 'p_change_FF_Per_Capita': 5.95, 'Grocery_per_capita_2009': 0.000135539, 'Grocery_per_capita_2014': 0.00012296, 'p_change_in_grocery_per_capita': -9.28, 'p_change_in_Access': -20.0, 'p_Change_in_Obesity': 7.5, 'p_change_in_income': 15.03}, {'id': 8, 'the_geom': '0101000020E61000009CF9D51C20CA5DC0F2ED5D83BE1A4740', 'city': 'KENNEWICK', 'latitude': 46.208939, 'longitude': -119.15821000000001, 'invalid_the_geom': 'Point', 'storenumber': 11485, 'storetype': 'FREESTANDING', 'address': '2721 W KENNEWICK AVE', 'cartodb_id': 13948, 'state': 'WA', 'zip': 99336, 'phone': '(509)586-9150', 'playplace': True, 'drivethru': True, 'archcard': True, 'freewifi': True, 'storeurl': 'http://www.mcwashington.com/11485', 'cartodb_georef_status': True, 'COUNTY': 'Benton', 'Grocery_2009': 30, 'Convenience_2009': 79, 'Fast_Food_Restaurants_2009': 137, 'Adult_Diabetes_p_2009': 7.3, 'Adult_Obsesity_p_2009': 28.0, 'Median_Household_Income_2009': 52417, 'Limited_Access_Populationp_2009': 20, 'Limited_Access_Population_2009': 43591, 'Population_2009': 221339, 'Grocery_2014': 30, 'Convenience_2014': 86, 'Fast_Food_Restaurants_2014': 160, 'Adult_Diabetes_2014': 9.6, 'Adult_Obesity_2014': 30.1, 'Median_Household_Income_2014': 60294, 'Limited_Access_p_2014': 16, 'Limited_Access_2014': 34547, 'Population_2014': 243991, 'FF_per_capita_2009': 0.00061896, 'FF_per_capita_2014': 0.00066, 'p_change_FF_Per_Capita': 5.95, 'Grocery_per_capita_2009': 0.000135539, 'Grocery_per_capita_2014': 0.00012296, 'p_change_in_grocery_per_capita': -9.28, 'p_change_in_Access': -20.0, 'p_Change_in_Obesity': 7.5, 'p_change_in_income': 15.03}  ... displaying 10 of 12042 total bound parameter sets ...  {'id': 12041, 'the_geom': '0101000020E6100000A7CEA3E2FF1952C09BE61DA7E8244540', 'city': 'BELCHERTOWN', 'latitude': 42.28835, 'longitude': -72.406243, 'invalid_the_geom': 'Point', 'storenumber': 12064, 'storetype': 'FREESTANDING', 'address': '148 N MAIN ST', 'cartodb_id': 60, 'state': 'MA', 'zip': 1007, 'phone': '(413)323-6498', 'playplace': False, 'drivethru': True, 'archcard': True, 'freewifi': True, 'storeurl': 'http://www.mcmassachusetts.com/12064', 'cartodb_georef_status': True, 'COUNTY': 'Hampshire', 'Grocery_2009': 32, 'Convenience_2009': 50, 'Fast_Food_Restaurants_2009': 93, 'Adult_Diabetes_p_2009': 7.0, 'Adult_Obsesity_p_2009': 22.3, 'Median_Household_Income_2009': 57558, 'Limited_Access_Populationp_2009': 33, 'Limited_Access_Population_2009': 52127, 'Population_2009': 158080, 'Grocery_2014': 37, 'Convenience_2014': 51, 'Fast_Food_Restaurants_2014': 99, 'Adult_Diabetes_2014': 6.8, 'Adult_Obesity_2014': 18.9, 'Median_Household_Income_2014': 60853, 'Limited_Access_p_2014': 39, 'Limited_Access_2014': 61107, 'Population_2014': 161043, 'FF_per_capita_2009': 0.00058831, 'FF_per_capita_2014': 0.00061, 'p_change_FF_Per_Capita': 4.49, 'Grocery_per_capita_2009': 0.000202429, 'Grocery_per_capita_2014': 0.00022975, 'p_change_in_grocery_per_capita': 13.5, 'p_change_in_Access': 18.18, 'p_Change_in_Obesity': -15.25, 'p_change_in_income': 5.72}, {'id': 12042, 'the_geom': '0101000020E6100000D44334BA832852C0D5B48B69A6074540', 'city': 'AGAWAM', 'latitude': 42.059765999999996, 'longitude': -72.63304000000001, 'invalid_the_geom': 'Point', 'storenumber': 34251, 'storetype': 'FREESTANDING', 'address': '868 SUFFIELD STREET', 'cartodb_id': 33, 'state': 'MA', 'zip': 1001, 'phone': '(413)786-6863', 'playplace': False, 'drivethru': True, 'archcard': True, 'freewifi': True, 'storeurl': 'http://www.mcmassachusetts.com/34251', 'cartodb_georef_status': True, 'COUNTY': 'Hampden', 'Grocery_2009': 95, 'Convenience_2009': 198, 'Fast_Food_Restaurants_2009': 260, 'Adult_Diabetes_p_2009': 10.3, 'Adult_Obsesity_p_2009': 28.5, 'Median_Household_Income_2009': 46356, 'Limited_Access_Populationp_2009': 26, 'Limited_Access_Population_2009': 120696, 'Population_2009': 463490, 'Grocery_2014': 98, 'Convenience_2014': 238, 'Fast_Food_Restaurants_2014': 293, 'Adult_Diabetes_2014': 11.1, 'Adult_Obesity_2014': 27.5, 'Median_Household_Income_2014': 51415, 'Limited_Access_p_2014': 22, 'Limited_Access_2014': 103309, 'Population_2014': 469033, 'FF_per_capita_2009': 0.000560961, 'FF_per_capita_2014': 0.00062, 'p_change_FF_Per_Capita': 11.36, 'Grocery_per_capita_2009': 0.00020496700000000002, 'Grocery_per_capita_2014': 0.00020894, 'p_change_in_grocery_per_capita': 1.94, 'p_change_in_Access': -15.38, 'p_Change_in_Obesity': -3.51, 'p_change_in_income': 10.91}]]"
     ]
    }
   ],
   "source": [
    "# Use `table.insert()` to insert the data into the table\n",
    "# The SQL table is populated during this step\n",
    "conn.execute(table.insert(), data)"
   ]
  },
  {
   "cell_type": "code",
   "execution_count": 31,
   "metadata": {},
   "outputs": [
    {
     "data": {
      "text/plain": [
       "[]"
      ]
     },
     "execution_count": 31,
     "metadata": {},
     "output_type": "execute_result"
    }
   ],
   "source": [
    "# Test that the insert works by fetching the first 5 rows. \n",
    "conn.execute(\"select * from food_two limit 5\").fetchall()"
   ]
  }
 ],
 "metadata": {
  "kernelspec": {
   "display_name": "Python 3",
   "language": "python",
   "name": "python3"
  },
  "language_info": {
   "codemirror_mode": {
    "name": "ipython",
    "version": 3
   },
   "file_extension": ".py",
   "mimetype": "text/x-python",
   "name": "python",
   "nbconvert_exporter": "python",
   "pygments_lexer": "ipython3",
   "version": "3.6.3"
  },
  "nteract": {
   "version": "0.2.0"
  },
  "varInspector": {
   "cols": {
    "lenName": 16,
    "lenType": 16,
    "lenVar": 40
   },
   "kernels_config": {
    "python": {
     "delete_cmd_postfix": "",
     "delete_cmd_prefix": "del ",
     "library": "var_list.py",
     "varRefreshCmd": "print(var_dic_list())"
    },
    "r": {
     "delete_cmd_postfix": ") ",
     "delete_cmd_prefix": "rm(",
     "library": "var_list.r",
     "varRefreshCmd": "cat(var_dic_list()) "
    }
   },
   "types_to_exclude": [
    "module",
    "function",
    "builtin_function_or_method",
    "instance",
    "_Feature"
   ],
   "window_display": false
  }
 },
 "nbformat": 4,
 "nbformat_minor": 2
}
