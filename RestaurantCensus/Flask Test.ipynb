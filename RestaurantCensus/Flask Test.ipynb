{
 "cells": [
  {
   "cell_type": "code",
   "execution_count": 2,
   "metadata": {
    "collapsed": true
   },
   "outputs": [],
   "source": [
    "from flask import Flask, render_template, jsonify\n",
    "\n",
    "import sqlalchemy\n",
    "from sqlalchemy.ext.automap import automap_base\n",
    "from sqlalchemy.orm import Session\n",
    "from sqlalchemy import create_engine, func"
   ]
  },
  {
   "cell_type": "code",
   "execution_count": 3,
   "metadata": {
    "collapsed": true
   },
   "outputs": [],
   "source": [
    "engine = create_engine(\"sqlite:///foodstore_seven.sqlite\")"
   ]
  },
  {
   "cell_type": "code",
   "execution_count": 4,
   "metadata": {},
   "outputs": [
    {
     "data": {
      "text/plain": [
       "['food_seven']"
      ]
     },
     "execution_count": 4,
     "metadata": {},
     "output_type": "execute_result"
    }
   ],
   "source": [
    "Base = automap_base()\n",
    "Base.prepare(engine, reflect=True)\n",
    "Base.classes.keys()"
   ]
  },
  {
   "cell_type": "code",
   "execution_count": 6,
   "metadata": {
    "collapsed": true
   },
   "outputs": [],
   "source": [
    "Food = Base.classes.food_seven\n",
    "session = Session(engine)"
   ]
  },
  {
   "cell_type": "code",
   "execution_count": 7,
   "metadata": {},
   "outputs": [
    {
     "data": {
      "text/plain": [
       "['the_geom',\n",
       " 'city',\n",
       " 'latitude',\n",
       " 'longitude',\n",
       " 'invalid_the_geom',\n",
       " 'storenumber',\n",
       " 'storetype',\n",
       " 'cartodb_id',\n",
       " 'state',\n",
       " 'zip',\n",
       " 'phone',\n",
       " 'playplace',\n",
       " 'drivethru',\n",
       " 'archcard',\n",
       " 'freewifi',\n",
       " 'storeurl',\n",
       " 'cartodb_georef_status',\n",
       " 'COUNTY',\n",
       " 'Grocery_2009',\n",
       " 'Convenience_2009',\n",
       " 'Fast_Food_Restaurants_2009',\n",
       " 'Adult_Diabetes_p_2009',\n",
       " 'Adult_Obsesity_p_2009',\n",
       " 'Median_Household_Income_2009',\n",
       " 'Limited_Access_Populationp_2009',\n",
       " 'Limited_Access_Population_2009',\n",
       " 'Population_2009',\n",
       " 'Grocery_2014',\n",
       " 'Convenience_2014',\n",
       " 'Fast_Food_Restaurants_2014',\n",
       " 'Adult_Diabetes_2014',\n",
       " 'Adult_Obesity_2014',\n",
       " 'Median_Household_Income_2014',\n",
       " 'Limited_Access_p_2014',\n",
       " 'Limited_Access_2014',\n",
       " 'Population_2014',\n",
       " 'FF_per_capita_2009',\n",
       " 'FF_per_capita_2014',\n",
       " 'p_change_FF_Per_Capita',\n",
       " 'Grocery_per_capita_2009',\n",
       " 'Grocery_per_capita_2014',\n",
       " 'p_change_in_grocery_per_capita',\n",
       " 'p_change_in_Access',\n",
       " 'p_Change_in_Obesity',\n",
       " 'p_change_in_income']"
      ]
     },
     "execution_count": 7,
     "metadata": {},
     "output_type": "execute_result"
    }
   ],
   "source": [
    "samples_list_col = Base.classes.food_seven.__table__.columns.keys()\n",
    "sample_list = samples_list_col[1:]\n",
    "sample_list"
   ]
  },
  {
   "cell_type": "code",
   "execution_count": null,
   "metadata": {
    "collapsed": true
   },
   "outputs": [],
   "source": []
  }
 ],
 "metadata": {
  "kernelspec": {
   "display_name": "Python 3",
   "language": "python",
   "name": "python3"
  },
  "language_info": {
   "codemirror_mode": {
    "name": "ipython",
    "version": 3
   },
   "file_extension": ".py",
   "mimetype": "text/x-python",
   "name": "python",
   "nbconvert_exporter": "python",
   "pygments_lexer": "ipython3",
   "version": "3.6.3"
  }
 },
 "nbformat": 4,
 "nbformat_minor": 2
}
